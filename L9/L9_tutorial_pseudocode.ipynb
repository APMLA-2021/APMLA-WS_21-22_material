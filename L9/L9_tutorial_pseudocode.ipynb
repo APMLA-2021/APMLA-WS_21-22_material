{
 "cells": [
  {
   "cell_type": "code",
   "execution_count": null,
   "metadata": {},
   "outputs": [],
   "source": [
    "import networkx as nx\n",
    "import numpy as np\n",
    "from sklearn.datasets import make_blobs\n",
    "import matplotlib.pyplot as plt\n",
    "import seaborn as sns\n",
    "%matplotlib notebook\n",
    "\n",
    "import warnings\n",
    "warnings.filterwarnings('ignore')"
   ]
  },
  {
   "cell_type": "code",
   "execution_count": null,
   "metadata": {},
   "outputs": [],
   "source": [
    "%matplotlib notebook"
   ]
  },
  {
   "cell_type": "markdown",
   "metadata": {},
   "source": [
    "Set the parameters"
   ]
  },
  {
   "cell_type": "code",
   "execution_count": null,
   "metadata": {},
   "outputs": [],
   "source": [
    "SAMPLE=1000                    # number of data extracted from every cluster\n",
    "num_components = 3             # number of mixtures -> K\n",
    "mu_arr = [0,1.,5.]             # array with the centers"
   ]
  },
  {
   "cell_type": "markdown",
   "metadata": {},
   "source": [
    "Draw the data"
   ]
  },
  {
   "cell_type": "code",
   "execution_count": null,
   "metadata": {},
   "outputs": [],
   "source": [
    "X = np.random.normal(loc=mu_arr[0], scale=1, size=SAMPLE) # args: scale=std\n",
    "for i, mu in enumerate(mu_arr[1:]):\n",
    "    X = np.append(X, np.random.normal(loc=mu, scale=1, size=SAMPLE))"
   ]
  },
  {
   "cell_type": "markdown",
   "metadata": {},
   "source": [
    "Plot "
   ]
  },
  {
   "cell_type": "code",
   "execution_count": null,
   "metadata": {
    "scrolled": false
   },
   "outputs": [],
   "source": [
    "fig, ax = plt.subplots(figsize=(10, 4))\n",
    "sns.distplot(X[:SAMPLE], ax=ax, rug=True)\n",
    "sns.distplot(X[SAMPLE:SAMPLE*2], ax=ax, rug=True)\n",
    "sns.distplot(X[SAMPLE*2:], ax=ax, rug=True)"
   ]
  },
  {
   "cell_type": "markdown",
   "metadata": {},
   "source": [
    "### Derive the equations for the ELBO."
   ]
  },
  {
   "cell_type": "code",
   "execution_count": null,
   "metadata": {},
   "outputs": [],
   "source": [
    "# TODO: we are doing it in the tutorial!"
   ]
  },
  {
   "cell_type": "markdown",
   "metadata": {},
   "source": [
    "### Implement CAVI updates for GMM"
   ]
  },
  {
   "cell_type": "code",
   "execution_count": null,
   "metadata": {},
   "outputs": [],
   "source": [
    "import numpy as np\n",
    "\n",
    "class UGMM(object):\n",
    "    '''Univariate GMM with CAVI'''\n",
    "    def __init__(self, X, K=2, sigma=1):\n",
    "        self.X = X                 # data\n",
    "        self.K = K                 # number of clusters\n",
    "        self.N = self.X.shape[0]   # number of data\n",
    "        self.sigma2 = sigma**2     # variance\n",
    "\n",
    "    def _init(self):\n",
    "        # INITIALIZATION\n",
    "        self.rho = np.random.dirichlet([np.random.random()*np.random.randint(1, 10)]*self.K, self.N)\n",
    "        self.m = np.random.randint(int(self.X.min()), high=int(self.X.max()), size=self.K).astype(float)\n",
    "        self.m += self.X.max()*np.random.random(self.K)\n",
    "        self.s2 = np.ones(self.K) * np.random.random(self.K)\n",
    "        print('Init mean')\n",
    "        print(self.m)\n",
    "        print('Init s2')\n",
    "        print(self.s2)\n",
    "\n",
    "    def get_elbo(self):\n",
    "        ### TODO: your code here ###\n",
    "        \n",
    "        elbo = ...\n",
    "        \n",
    "        return elbo\n",
    "\n",
    "    def fit(self, max_iter=100, tol=1e-10):\n",
    "        # INIT\n",
    "        self._init()\n",
    "        self.elbo_values = [self.get_elbo()]\n",
    "        self.m_history = [self.m]\n",
    "        self.s2_history = [self.s2]\n",
    "        for iter_ in range(1, max_iter+1):\n",
    "            # STEP\n",
    "            self._cavi()\n",
    "            self.m_history.append(self.m)\n",
    "            self.s2_history.append(self.s2)\n",
    "            # EVALUATE ELBO\n",
    "            self.elbo_values.append(self.get_elbo())\n",
    "            if iter_ % 5 == 0:\n",
    "                print(iter_, self.m_history[iter_])\n",
    "            if np.abs(self.elbo_values[-2] - self.elbo_values[-1]) <= tol:\n",
    "                print('ELBO converged with ll %.3f at iteration %d'%(self.elbo_values[-1],\n",
    "                                                                     iter_))\n",
    "                break\n",
    "\n",
    "        if iter_ == max_iter:\n",
    "            print('ELBO ended with ll %.3f'%(self.elbo_values[-1]))\n",
    "\n",
    "\n",
    "    def _cavi(self):\n",
    "        self._update_rho()\n",
    "        self._update_mu()\n",
    "\n",
    "    def _update_rho(self):\n",
    "        \n",
    "        ### TODO: your code here ###\n",
    "        \n",
    "    def _update_mu(self):\n",
    "        \n",
    "        ### TODO: your code here ###\n",
    "        "
   ]
  },
  {
   "cell_type": "markdown",
   "metadata": {},
   "source": [
    "### Fit the model to the data"
   ]
  },
  {
   "cell_type": "code",
   "execution_count": null,
   "metadata": {},
   "outputs": [],
   "source": [
    "ugmm = UGMM(X, 3)\n",
    "ugmm.fit()"
   ]
  },
  {
   "cell_type": "markdown",
   "metadata": {},
   "source": [
    "### Plot results at convergence"
   ]
  },
  {
   "cell_type": "code",
   "execution_count": null,
   "metadata": {},
   "outputs": [],
   "source": [
    "fig, ax = plt.subplots(figsize=(10, 4))\n",
    "sns.distplot(X[:SAMPLE], ax=ax, hist=True, norm_hist=True)\n",
    "sns.distplot(np.random.normal(ugmm.m[0], 1, SAMPLE), color='b', hist=False, kde=True,kde_kws={'linestyle':'--'})\n",
    "sns.distplot(X[SAMPLE:SAMPLE*2], ax=ax, hist=True, norm_hist=True)\n",
    "sns.distplot(np.random.normal(ugmm.m[1], 1, SAMPLE), color='r', hist=False, kde=True,kde_kws={'linestyle':'--'})\n",
    "sns.distplot(X[SAMPLE*2:], ax=ax, hist=True, norm_hist=True)\n",
    "sns.distplot(np.random.normal(ugmm.m[2], 1, SAMPLE), color='g', hist=False, kde=True,kde_kws={'linestyle':'--'})\n",
    "ax.set(title='CAVI convergence')\n",
    "plt.savefig('figures/L12_GMMexample_itConv.pdf')"
   ]
  },
  {
   "cell_type": "markdown",
   "metadata": {},
   "source": [
    "### Plot ELBO  \n",
    "Detect changing points in the ELBO."
   ]
  },
  {
   "cell_type": "code",
   "execution_count": null,
   "metadata": {},
   "outputs": [],
   "source": [
    "fs=20\n",
    "\n",
    "it1=10\n",
    "it2=25\n",
    "plt.figure()\n",
    "plt.scatter(np.arange(len(ugmm.elbo_values)),ugmm.elbo_values)\n",
    "plt.scatter(it1,ugmm.elbo_values[it1],marker='s',facecolors='none',edgecolors='r',s=200, linewidth=3)\n",
    "plt.scatter(it2,ugmm.elbo_values[it2],marker='s',facecolors='none',edgecolors='r',s=200, linewidth=3)\n",
    "plt.xlim([0,40])\n",
    "plt.ylim([-950,-100])\n",
    "plt.xlabel('Iterations',fontsize=fs)\n",
    "plt.ylabel('ELBO',fontsize=fs)\n",
    "plt.savefig('figures/L12_GMMexample_ELBO.pdf')"
   ]
  },
  {
   "cell_type": "markdown",
   "metadata": {},
   "source": [
    "### Plot result at the beginning and at the changing points."
   ]
  },
  {
   "cell_type": "markdown",
   "metadata": {},
   "source": [
    "Beginning"
   ]
  },
  {
   "cell_type": "code",
   "execution_count": null,
   "metadata": {},
   "outputs": [],
   "source": [
    "it=0\n",
    "fig, ax = plt.subplots(figsize=(10, 4))\n",
    "sns.distplot(X[:SAMPLE], ax=ax, hist=True, norm_hist=True)\n",
    "sns.distplot(np.random.normal(ugmm.m_history[it][0], 1, SAMPLE), color='b', hist=False, kde=True,kde_kws={'linestyle':'--'})\n",
    "sns.distplot(X[SAMPLE:SAMPLE*2], ax=ax, hist=True, norm_hist=True)\n",
    "sns.distplot(np.random.normal(ugmm.m_history[it][1], 1, SAMPLE), color='r', hist=False, kde=True,kde_kws={'linestyle':'--'})\n",
    "sns.distplot(X[SAMPLE*2:], ax=ax, hist=True, norm_hist=True)\n",
    "sns.distplot(np.random.normal(ugmm.m_history[it][2], 1, SAMPLE), color='g', hist=False, kde=True,kde_kws={'linestyle':'--'})\n",
    "ax.set(title=f'Iteration {it}')\n",
    "plt.savefig('figures/L12_GMMexample_it0.pdf')"
   ]
  },
  {
   "cell_type": "markdown",
   "metadata": {},
   "source": [
    "Changing points (two plots)"
   ]
  },
  {
   "cell_type": "code",
   "execution_count": null,
   "metadata": {},
   "outputs": [],
   "source": [
    "it=it1\n",
    "fig, ax = plt.subplots(figsize=(10, 4))\n",
    "sns.distplot(X[:SAMPLE], ax=ax, hist=True, norm_hist=True)\n",
    "sns.distplot(np.random.normal(ugmm.m_history[it][0], 1, SAMPLE), color='b', hist=False, kde=True,kde_kws={'linestyle':'--'})\n",
    "sns.distplot(X[SAMPLE:SAMPLE*2], ax=ax, hist=True, norm_hist=True)\n",
    "sns.distplot(np.random.normal(ugmm.m_history[it][1], 1, SAMPLE), color='r', hist=False, kde=True,kde_kws={'linestyle':'--'})\n",
    "sns.distplot(X[SAMPLE*2:], ax=ax, hist=True, norm_hist=True)\n",
    "sns.distplot(np.random.normal(ugmm.m_history[it][2], 1, SAMPLE), color='g', hist=False, kde=True,kde_kws={'linestyle':'--'})\n",
    "ax.set(title=f'Iteration {it1}')\n",
    "plt.savefig('figures/L12_GMMexample_it1.pdf')"
   ]
  },
  {
   "cell_type": "code",
   "execution_count": null,
   "metadata": {},
   "outputs": [],
   "source": [
    "it=it2\n",
    "fig, ax = plt.subplots(figsize=(10, 4))\n",
    "sns.distplot(X[:SAMPLE], ax=ax, hist=True, norm_hist=True)\n",
    "sns.distplot(np.random.normal(ugmm.m_history[it][0], 1, SAMPLE), color='b', hist=False, kde=True,kde_kws={'linestyle':'--'})\n",
    "sns.distplot(X[SAMPLE:SAMPLE*2], ax=ax, hist=True, norm_hist=True)\n",
    "sns.distplot(np.random.normal(ugmm.m_history[it][1], 1, SAMPLE), color='r', hist=False, kde=True,kde_kws={'linestyle':'--'})\n",
    "sns.distplot(X[SAMPLE*2:], ax=ax, hist=True, norm_hist=True)\n",
    "sns.distplot(np.random.normal(ugmm.m_history[it][2], 1, SAMPLE), color='g', hist=False, kde=True,kde_kws={'linestyle':'--'})\n",
    "ax.set(title=f'Iteration {it2}')\n",
    "plt.savefig('figures/L12_GMMexample_it2.pdf')"
   ]
  },
  {
   "cell_type": "markdown",
   "metadata": {},
   "source": [
    "### TO DISCUSS: Calculate accuracy"
   ]
  },
  {
   "cell_type": "code",
   "execution_count": null,
   "metadata": {},
   "outputs": [],
   "source": [
    "# greedily choose cluster correspondence to maximize accuracy\n",
    "# map cluster number from variational approximation to ground truth\n",
    "var_assignments = ugmm.rho.argmax(axis=1)\n",
    "\n",
    "#for k in range(num_components):\n",
    "#    chunk=var_assignments[k*SAMPLE:(k+1)*SAMPLE]\n",
    "#    print(chunk)\n",
    "    \n",
    "var_to_gt = dict()\n",
    "for k in range(num_components):\n",
    "    gt_k = max(\n",
    "        set(range(num_components)).difference(set(var_to_gt.values())),\n",
    "        key = lambda kk: (var_assignments[kk * SAMPLE : (kk + 1) * SAMPLE] == k).sum()\n",
    "    )\n",
    "    var_to_gt[k] = gt_k"
   ]
  },
  {
   "cell_type": "code",
   "execution_count": null,
   "metadata": {},
   "outputs": [],
   "source": [
    "var_assignments = np.vectorize(var_to_gt.get)(var_assignments)\n",
    "acc = (var_assignments == np.repeat(range(num_components), SAMPLE)).sum() / X.shape[0]\n",
    "print('Accuracy attained:', acc)"
   ]
  },
  {
   "cell_type": "code",
   "execution_count": null,
   "metadata": {},
   "outputs": [],
   "source": []
  },
  {
   "cell_type": "code",
   "execution_count": null,
   "metadata": {},
   "outputs": [],
   "source": []
  }
 ],
 "metadata": {
  "kernelspec": {
   "display_name": "Python 3 (ipykernel)",
   "language": "python",
   "name": "python3"
  },
  "language_info": {
   "codemirror_mode": {
    "name": "ipython",
    "version": 3
   },
   "file_extension": ".py",
   "mimetype": "text/x-python",
   "name": "python",
   "nbconvert_exporter": "python",
   "pygments_lexer": "ipython3",
   "version": "3.8.12"
  }
 },
 "nbformat": 4,
 "nbformat_minor": 2
}
