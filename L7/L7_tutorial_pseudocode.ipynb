{
 "cells": [
  {
   "cell_type": "markdown",
   "metadata": {},
   "source": [
    "# Tutorial 7: Belief Propagation for graph coloring\n",
    "\n",
    "### Alessandro Lonardi and Caterina De Bacco\n",
    "\n",
    "**Remark:** for the solution of points (2),(3),(4),(5) some of the parameters we propose in the solution are initialized to values allowing for the convergence to be reached fast. If you want to try some more expensive computations, use the values we suggest in the attached .pdf with the solution of the tutorial."
   ]
  },
  {
   "cell_type": "code",
   "execution_count": 1,
   "metadata": {},
   "outputs": [],
   "source": [
    "import networkx as nx\n",
    "import numpy as np\n",
    "from scipy.spatial import distance\n",
    "import matplotlib.pyplot as plt\n",
    "\n",
    "np.random.seed(67)"
   ]
  },
  {
   "cell_type": "markdown",
   "metadata": {},
   "source": [
    "## Generate Erdős–Rényi graph\n",
    "\n",
    "Here:\n",
    "- ```N``` : number of nodes of the graph\n",
    "- ```beta``` : \"inverse temeprature\" in the soft distribution\n",
    "- ```q``` : number of colors\n",
    "- ```c``` : average degree"
   ]
  },
  {
   "cell_type": "code",
   "execution_count": 3,
   "metadata": {},
   "outputs": [],
   "source": [
    "N, beta, q, c = 100, 2, 3, 5\n",
    "G = nx.erdos_renyi_graph(n=N, p=c/(N-1))\n",
    "G = G.to_directed()\n",
    "\n",
    "theta = 1 - np.exp(-beta)"
   ]
  },
  {
   "cell_type": "markdown",
   "metadata": {},
   "source": [
    "Setting the convergence criteria:\n",
    "\n",
    "$$\\frac{1}{2 q M} \\sum_{(i j) \\in E} \\sum_{s}\\left|\\left(\\chi_{s}^{i \\rightarrow(i j)}(t+1)-\\chi_{s}^{i \\rightarrow(i j)}(t)\\right)\\right|<\\tilde{\\epsilon}$$"
   ]
  },
  {
   "cell_type": "code",
   "execution_count": 8,
   "metadata": {},
   "outputs": [],
   "source": [
    "# Checking the convergence\n",
    "def convergence(el1, graph, abs_tol):\n",
    "    #print(abs_tol)\n",
    "    \"\"\"\n",
    "    Inputs:\n",
    "        el1: dict, \n",
    "        graph: nx.DiGraph, \n",
    "        abs_tol: float, convergence threshold\n",
    "    Returns:\n",
    "        (err, err < abs_tol): tuple(float, bool), \n",
    "    \"\"\"\n",
    "    \n",
    "    # el1 -> message_new\n",
    "    # graph\n",
    "    \n",
    "    # MESSAGE -> graph.edges()[e]['message_t']\n",
    "    # EDGE -> graph.edges()[e]\n",
    "    err = 0\n",
    "    for e in el1:\n",
    "        #el1 = {key -> (0,1): value -> [prob]}\n",
    "        err +=  np.sum(abs( graph.edges()[e]['message_t'] - el1[e]) )\n",
    "    err /=  2*q*graph.number_of_edges()/2\n",
    "    return(err, err < abs_tol)"
   ]
  },
  {
   "cell_type": "markdown",
   "metadata": {},
   "source": [
    "## Implementing the BP update\n",
    "\n",
    "We assing to each edge of the graph an attribute ```\"message_t\"``` representing a message. The main steps we need to implement are two:\n",
    "1) the initialization. In particular:\n",
    "\n",
    "    - we initialize the messages close to the fixed point we found using the theory\n",
    "    - we initialize the messages at random\n",
    "    - we initialize them fixed at a value\n",
    "        \n",
    "2) the update. It can be done:\n",
    "\n",
    "    - in parallel, i.e. we compute the sum-product update for all the messages, and then we update them;\n",
    "    - randomly, i.e. we compute the sum-product update for one messages, and then we update it. We iterate the pair of oprations: (1) sum-product, (2) message update, so that we can use the new information of messages to update the variables\n",
    "\n",
    "**PS:** In (2) permute the edges at random before implementing the BP equations. <br/>\n",
    "**Remark:** remember to normalize the messages after the initialization!"
   ]
  },
  {
   "cell_type": "code",
   "execution_count": 9,
   "metadata": {},
   "outputs": [],
   "source": [
    "def BP(G, beta, q, init='perturb', update='parallel', max_it=1000, abs_tol=1e-4, alpha=0.1, report=False):\n",
    "    \n",
    "    # Initialization BP messages\n",
    "    if init == 'perturb':\n",
    "        for e in G.edges():\n",
    "            G.edges()[e]['message_t'] = 1/q + np.random.uniform(low=-alpha/q, high=alpha/q, size=q)\n",
    "            G.edges()[e]['message_t'] = G.edges()[e]['message_t']/np.sum(G.edges()[e]['message_t'])\n",
    "    elif init == 'random':\n",
    "        for e in G.edges():\n",
    "            G.edges()[e]['message_t'] = np.random.uniform(low=0, high=1, size=q)\n",
    "            G.edges()[e]['message_t'] = G.edges()[e]['message_t']/np.sum(G.edges()[e]['message_t'])\n",
    "    elif init == 'first-color':\n",
    "        for e in G.edges():\n",
    "            G.edges()[e]['message_t'] = np.array([1]+[0]*(q-1))\n",
    "        \n",
    "    # Iterating\n",
    "    conv, it = False, 0\n",
    "    differences = []\n",
    "    \n",
    "    if update=='parallel':\n",
    "        while not conv and it<max_it: # <- time iteration\n",
    "            # UPDATE (IMPLEMENTATION)\n",
    "            message_new = {}\n",
    "            for e in G.edges():\n",
    "                i = e[0]\n",
    "                j = e[1]\n",
    "                prod = np.ones(q)\n",
    "                for k in G.neighbors(i):\n",
    "                    if k!=j:\n",
    "                        prod *= 1 - theta*G.edges()[(k,i)]['message_t']\n",
    "                if len(list(G.neighbors(i)))>1: # <- sanity check\n",
    "                    prod = prod / np.sum(prod)\n",
    "                    message_new[e] = prod\n",
    "            \n",
    "            # CHECK FOR CONVERGENCE\n",
    "            diff, conv = convergence(message_new, G, abs_tol)\n",
    "            differences.append(diff)\n",
    "            it+=1\n",
    "            \n",
    "            # OLD <- NEW\n",
    "            for e in G.edges():\n",
    "                try:\n",
    "                    G.edges()[e]['message_t'] = message_new[e]\n",
    "                except:\n",
    "                    pass\n",
    "\n",
    "    #elif update=='random':\n",
    "    #    while not conv and it<max_it\n",
    "    #        # FILL\n",
    "\n",
    "    if report:\n",
    "        print('Number of iterations: {0}'.format(it))\n",
    "    \n",
    "    return(it, differences)"
   ]
  },
  {
   "cell_type": "markdown",
   "metadata": {},
   "source": [
    "## Point 2)"
   ]
  },
  {
   "cell_type": "code",
   "execution_count": 10,
   "metadata": {},
   "outputs": [
    {
     "name": "stdout",
     "output_type": "stream",
     "text": [
      "Number of iterations: 1000\n",
      "Number of iterations: 0\n"
     ]
    },
    {
     "data": {
      "image/png": "[encoded data removed]",
      "text/plain": [
       "<Figure size 864x360 with 2 Axes>"
      ]
     },
     "metadata": {
      "needs_background": "light"
     },
     "output_type": "display_data"
    }
   ],
   "source": [
    "fig, ax = plt.subplots(1,2, figsize=(12,5))\n",
    "\n",
    "# Parallel update (all messages at once)\n",
    "x, y = BP(G, beta, q, update='parallel', report=True)\n",
    "ax[0].plot(np.arange(x), y)\n",
    "ax[0].set_title('Parallel update', size=16)\n",
    "ax[0].set_xlabel('Number of iterations',size=12)\n",
    "ax[0].set_ylabel('$err$',size=12)\n",
    "\n",
    "# Random update (one by one)\n",
    "x, y = BP(G, beta, q, update='random', report=True)\n",
    "ax[1].plot(np.arange(x), y)\n",
    "ax[1].set_title('Random update', size=16)\n",
    "ax[1].set_xlabel('Number of iterations', size=12)\n",
    "ax[1].set_ylabel('$err$',size=12)\n",
    "\n",
    "plt.savefig('tutorial10_point_b.png')\n",
    "plt.show()"
   ]
  },
  {
   "cell_type": "markdown",
   "metadata": {},
   "source": [
    "## Point 3)"
   ]
  },
  {
   "cell_type": "code",
   "execution_count": null,
   "metadata": {},
   "outputs": [],
   "source": [
    "beta, q = 2, 3 # fixing beta and the colors\n",
    "c_choices = np.linspace(0.1, 7, 10) # ranging the average degree\n",
    "N_choices = [50] #, 100, 200] # ranging the number of nodes\n",
    "\n",
    "result = np.zeros((len(c_choices),len(N_choices)+1))\n",
    "result[:, 0] = c_choices\n",
    "for j, N in enumerate(N_choices):\n",
    "    #print(\"nodes:\", N)\n",
    "    for i, c in enumerate(c_choices):\n",
    "        #print(\"degree:\", c)\n",
    "        iterations = []\n",
    "        for _ in range(5): # computing the average over 5 executions\n",
    "            G = nx.erdos_renyi_graph(n=N, p=c/(N-1))\n",
    "            G = G.to_directed()        \n",
    "            x, y = BP(G, beta, q)\n",
    "            iterations.append(x)\n",
    "        result[i, j+1] = np.median(iterations)"
   ]
  },
  {
   "cell_type": "code",
   "execution_count": null,
   "metadata": {},
   "outputs": [],
   "source": [
    "plt.figure(figsize=(10,5))\n",
    "for col in range(len(N_choices)):\n",
    "    plt.plot(result[:,0], result[:,col+1], label='N = {0}'.format(N_choices[col]))\n",
    "plt.legend(fontsize=12)\n",
    "plt.xlabel('Average degree c', size=12)\n",
    "plt.ylabel('Converge iteration', size=12)\n",
    "plt.savefig('tutorial10_point_c.png')"
   ]
  },
  {
   "cell_type": "markdown",
   "metadata": {},
   "source": [
    "## Point 4)"
   ]
  },
  {
   "cell_type": "code",
   "execution_count": null,
   "metadata": {},
   "outputs": [],
   "source": [
    "# Attaching marginal distributions to each node\n",
    "def marginals_one_point(G): # greedy choice of the label assignment, i.e. the label is the most probable\n",
    "    for i in G.nodes():\n",
    "        prod = np.ones(q)\n",
    "        for k in G.neighbors(i):\n",
    "            prod *= 1-theta*G.edges()[(k, i)]['message_t']\n",
    "            prod /= np.sum(prod)\n",
    "        G.nodes()[i]['marginal'] = prod\n",
    "        \n",
    "# Assessing the coloring mapping\n",
    "def accuracy(G):\n",
    "    errors = 0\n",
    "    for e in G.edges():\n",
    "        i = e[0]\n",
    "        j = e[1]\n",
    "        if np.argmax(G.nodes()[i]['marginal']) == np.argmax(G.nodes()[j]['marginal']):\n",
    "            errors += 1 # violation of the game -> two neighboring nodes are assigned to the same value\n",
    "    return(errors/2) # avoid double counting of edges"
   ]
  },
  {
   "cell_type": "code",
   "execution_count": null,
   "metadata": {
    "scrolled": true
   },
   "outputs": [],
   "source": [
    "beta, q = 2, 3 # fixing beta and the colors\n",
    "c_choices = np.linspace(2, 7, 10) # ranging the average degree\n",
    "result1 = np.zeros((len(c_choices),3))\n",
    "result1[:, 0] = c_choices\n",
    "N = 500 # fixing the number of nodes\n",
    "for i, c in enumerate(c_choices):\n",
    "    errors = []\n",
    "    print(\"degree:\", c)\n",
    "    for _ in range(5):\n",
    "        G = nx.erdos_renyi_graph(n=N, p=c/(N-1))\n",
    "        G = G.to_directed()\n",
    "        x, y = BP(G, beta, q)\n",
    "        marginals_one_point(G)\n",
    "        errors.append(accuracy(G)/(G.number_of_edges()/2))\n",
    "    result1[i, 1] = np.mean(errors)\n",
    "    result1[i, 2] = np.std(errors)"
   ]
  },
  {
   "cell_type": "code",
   "execution_count": null,
   "metadata": {},
   "outputs": [],
   "source": [
    "plt.figure(figsize=(10,5))\n",
    "plt.errorbar(result1[:,0], result1[:,1], result1[:,2])\n",
    "plt.xlabel('Average degree c', size=12)\n",
    "plt.ylabel('Fraction of violations', size=12)\n",
    "plt.savefig('tutorial10_point_d.png')\n",
    "plt.show()"
   ]
  },
  {
   "cell_type": "markdown",
   "metadata": {},
   "source": [
    "## Point 5)"
   ]
  },
  {
   "cell_type": "code",
   "execution_count": null,
   "metadata": {},
   "outputs": [],
   "source": [
    "N = 1000\n",
    "q = 3\n",
    "c = 5\n",
    "\n",
    "G = nx.erdos_renyi_graph(n=N, p=c/(N-1))\n",
    "G = G.to_directed()\n",
    "\n",
    "plt.figure(figsize=(10,5))\n",
    "for init in ['perturb','random','first-color']:\n",
    "    print('\\nInitialization {0}'.format(init))\n",
    "    x, y = BP(G, beta, q, init=init, report=True)\n",
    "    plt.plot(np.arange(x), y, label=init)\n",
    "plt.legend(fontsize=12)\n",
    "plt.xlabel('Number of iterations',size=12)\n",
    "plt.ylabel('$err$', size=12)\n",
    "plt.savefig('tutorial10_point_e.png')\n",
    "plt.show()"
   ]
  }
 ],
 "metadata": {
  "kernelspec": {
   "display_name": "Python 3",
   "language": "python",
   "name": "python3"
  },
  "language_info": {
   "codemirror_mode": {
    "name": "ipython",
    "version": 3
   },
   "file_extension": ".py",
   "mimetype": "text/x-python",
   "name": "python",
   "nbconvert_exporter": "python",
   "pygments_lexer": "ipython3",
   "version": "3.8.3"
  }
 },
 "nbformat": 4,
 "nbformat_minor": 2
}
