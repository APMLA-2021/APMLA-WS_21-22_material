{
 "cells": [
  {
   "cell_type": "markdown",
   "metadata": {},
   "source": [
    "# Planted SK model"
   ]
  },
  {
   "cell_type": "code",
   "execution_count": 1,
   "metadata": {},
   "outputs": [],
   "source": [
    "import numpy as np\n",
    "import networkx as nx\n",
    "import matplotlib.pyplot as plt\n",
    "from IPython.display import Latex\n",
    "np.random.seed(14753)\n",
    "%matplotlib inline"
   ]
  },
  {
   "cell_type": "markdown",
   "metadata": {},
   "source": [
    "# Exercise 1"
   ]
  },
  {
   "cell_type": "markdown",
   "metadata": {},
   "source": [
    "Write a function to sample an instance of $(\\mathbf{s},\\mathbf{J})$.\n"
   ]
  },
  {
   "cell_type": "markdown",
   "metadata": {},
   "source": [
    "## Point c)"
   ]
  },
  {
   "cell_type": "markdown",
   "metadata": {},
   "source": [
    "From points a) and b) of exercise 1 we know that the posterior distribution of $s$ is a Boltzmann distribution\n",
    "\n",
    "$$ P(s | J ) \\propto e^{\\frac{\\beta}{\\sqrt{N}} \\sum_{ij}J_{ij} s_i s_j}$$\n",
    "\n",
    "To sample a particular realization we follow the generative model at hand: first we sample a \"planted\" realization of $s$ from the prior \n",
    "\n",
    "$$s_i \\sim \\frac{1}{2} \\delta(s_i - 1) + \\frac{1}{2} \\delta(s_i + 1)$$\n",
    "\n",
    "and then sample a realization of $J$ from the likelihood \n",
    "\n",
    "$$J_{ij} \\sim N \\left(\\frac{s_i s_j}{\\sqrt{N}}, \\sigma^2 \\right) $$"
   ]
  },
  {
   "cell_type": "code",
   "execution_count": 2,
   "metadata": {},
   "outputs": [],
   "source": [
    "def sample_instance(size_x, var_noise):\n",
    "    \"\"\"Sample {x, J} from P(x, J)\"\"\"\n",
    "    \n",
    "    # Sample x from U({+1, -1}^N)\n",
    "    x0 = np.random.choice([+1, -1], size_x)\n",
    "    \n",
    "    # Generate J = xx^T / sqrt(N) + noise\n",
    "    W = np.outer(x0, x0) / np.sqrt(size_x)\n",
    "    noise = np.sqrt(var_noise) * np.random.randn(size_x, size_x)\n",
    "    noise = np.tril(noise) + np.tril(noise).T  # make noise symmetric\n",
    "    \n",
    "    J = W + noise\n",
    "    np.fill_diagonal(J, 0)  # set diagonal elements to zero\n",
    "\n",
    "    return x0, J"
   ]
  },
  {
   "cell_type": "code",
   "execution_count": 3,
   "metadata": {},
   "outputs": [
    {
     "name": "stdout",
     "output_type": "stream",
     "text": [
      "[ 1  1 -1 ...  1 -1  1]\n",
      "\n",
      "[[ 0.         -0.01402384  0.37446827 ... -0.57908625  0.24606049\n",
      "  -0.09781867]\n",
      " [-0.01402384  0.         -0.25387192 ...  0.21896855 -0.48342456\n",
      "   0.47098177]\n",
      " [ 0.37446827 -0.25387192  0.         ...  0.0005851  -0.05790875\n",
      "   0.28537195]\n",
      " ...\n",
      " [-0.57908625  0.21896855  0.0005851  ...  0.          0.40979618\n",
      "   0.48746639]\n",
      " [ 0.24606049 -0.48342456 -0.05790875 ...  0.40979618  0.\n",
      "  -0.13028925]\n",
      " [-0.09781867  0.47098177  0.28537195 ...  0.48746639 -0.13028925\n",
      "   0.        ]]\n"
     ]
    }
   ],
   "source": [
    "var_noise = 0.1\n",
    "x0, J = sample_instance(size_x=5000, var_noise=var_noise)\n",
    "print(x0, end='\\n\\n')\n",
    "print(J)"
   ]
  },
  {
   "cell_type": "markdown",
   "metadata": {},
   "source": [
    "## Points d) e) f)"
   ]
  },
  {
   "cell_type": "markdown",
   "metadata": {},
   "source": [
    "* d) Write a function that implements the TAP equation to approximate the mean $\\hat{\\mathbf{s}}$ of $P(\\mathbf{s}|\\mathbf{J})$.   \n",
    "his is an iteration that, if it converges, gives a very good approximation for $\\hat{\\mathbf{s}}$ as $N\\rightarrow \\infty$.   \n",
    "For numerical reasons implement the fixed point iterations as follows:\n",
    "\\begin{align*}\n",
    "m_i^{(t+1)} &= \\tanh \\left(  \\frac{1}{\\sigma^2 \\sqrt{N}} \\sum_j J_{ij} \\, m_j^{(t)}  \\right)   && \\mbox{Mean Field}   \t\\\\\n",
    "m_i^{(t+1)} &= \\tanh \\left(  \n",
    "\t\\frac{1}{\\sigma^2 \\sqrt{N}} \\sum_j J_{ij} \\, m_j^{(t)}  - \n",
    "\tm_i^{(t-1)} \\frac{1}{N \\sigma^4} \\sum_j J^{2}_{ij}\\, (1 - (m_j^{(t)})^2)   \\right)      \n",
    "\t&& \\mbox{TAP}   \t\\\\\n",
    "\\end{align*}  \n",
    "\n",
    "* e) Run some experiments ($N_{real} \\in [10,100]$ re-samplings of $J, s$ at your choice) for $N=10,100,1000,5000$ and fixed $\\sigma^{2}=0.1$ and check that the overlap  with ground-truth improves with the iterations.  \n",
    "\n",
    "The overlap is defined as: $overlap(\\mathbf{m},\\mathbf{s}_{0}) := | \\frac{\\mathbf{m}\\cdot \\mathbf{s}_{0}}{N}|$.  \n",
    "\n",
    "* f) \n",
    "    * i) Run sum experiments ($N_{real} \\in [10,100]$ re-samplings of $J, s$ at your choice) for $N=10,100,1000,5000$ and varying $\\sigma^{2} \\in [0.1,2]$. \n",
    "    * ii) Repeat the same experiments but using the MF approximation instead.  \n",
    "    * iii) Plot the performance metrics values at convergence for TAP and MF as a function of the noise $\\sigma^{2}$ for various $N$.  \n",
    "Comment on what you observe.\n",
    "\n"
   ]
  },
  {
   "cell_type": "code",
   "execution_count": 4,
   "metadata": {},
   "outputs": [],
   "source": [
    "def iterate_sc_equation(J, var_noise, s0=None, max_iter=None, tol=1e-7, verbose=True, approximation='MF'):\n",
    "    \"\"\"Iterate MF or TAP self-consistency equation\"\"\"\n",
    "    \n",
    "    # Some pre-processing\n",
    "    size_x = J.shape[0]\n",
    "    max_iter = max_iter or 100 * size_x\n",
    "    \n",
    "    # Initialize variables\n",
    "    B = np.zeros(size_x)\n",
    "    m = np.random.rand(size_x)\n",
    "    m_old = np.zeros(size_x)\n",
    "    \n",
    "    for t in range(max_iter):\n",
    "        # Perform iteration\n",
    "        if approximation == 'TAP':\n",
    "            B = (J.dot(m) / np.sqrt(size_x) - (1./ (var_noise*size_x))*m_old * (J**2).dot(1 - m ** 2)) / var_noise\n",
    "        elif approximation == 'MF':\n",
    "            B = J.dot(m) / np.sqrt(size_x) / var_noise\n",
    "        m_old = np.copy(m)\n",
    "        m = np.tanh(B)\n",
    "         \n",
    "        # Compute metrics\n",
    "        diff = np.mean(np.abs(m - m_old))\n",
    "        \n",
    "        # Print iteration status on screen\n",
    "        if verbose:\n",
    "            print(\"t = %d, diff = %g\" % (t, diff))\n",
    "        \n",
    "        # Check for convergence\n",
    "        if diff < tol:\n",
    "            break\n",
    "            \n",
    "    return m"
   ]
  },
  {
   "cell_type": "markdown",
   "metadata": {},
   "source": [
    "Example of call of iterate_tap"
   ]
  },
  {
   "cell_type": "code",
   "execution_count": 5,
   "metadata": {},
   "outputs": [
    {
     "name": "stdout",
     "output_type": "stream",
     "text": [
      "t = 0, diff = 0.812344\n",
      "t = 1, diff = 0.891782\n",
      "t = 2, diff = 0.930618\n",
      "t = 3, diff = 0.926825\n",
      "t = 4, diff = 0.758826\n",
      "t = 5, diff = 0.295786\n",
      "t = 6, diff = 0.0200339\n",
      "t = 7, diff = 0.00149867\n",
      "t = 8, diff = 0.00021351\n",
      "t = 9, diff = 4.22822e-05\n",
      "t = 10, diff = 8.0304e-06\n",
      "t = 11, diff = 1.27011e-06\n",
      "t = 12, diff = 2.60082e-07\n",
      "t = 13, diff = 4.23022e-08\n"
     ]
    },
    {
     "data": {
      "text/plain": [
       "array([ 0.99999987,  1.        , -1.        , ...,  1.        ,\n",
       "       -1.        ,  0.99998863])"
      ]
     },
     "execution_count": 5,
     "metadata": {},
     "output_type": "execute_result"
    }
   ],
   "source": [
    "iterate_sc_equation(J, var_noise, max_iter=30, approximation='TAP')"
   ]
  },
  {
   "cell_type": "markdown",
   "metadata": {},
   "source": [
    "Run experiment for varying levels of noise"
   ]
  },
  {
   "cell_type": "code",
   "execution_count": 16,
   "metadata": {},
   "outputs": [],
   "source": [
    "def run_experiment(noise_vars, size_x, verbose=False):\n",
    "    \"\"\"Compute overlap obtained by AMP using different noise variances\"\"\"\n",
    "    overlaps_tap = np.zeros(len(noise_vars))\n",
    "    overlaps_MF = np.zeros(len(noise_vars))\n",
    "    \n",
    "    # For each variance in noise_vars, sample new instance and run AMP\n",
    "    for i, var in enumerate(noise_vars):\n",
    "        x0, J = sample_instance(size_x=size_x, var_noise=var)\n",
    "        \n",
    "        m_tap = iterate_sc_equation(J, var, verbose=verbose, approximation='MF')\n",
    "        m_MF = iterate_sc_equation(J, var, verbose=verbose, approximation='TAP')\n",
    "        \n",
    "        overlaps_tap[i] = np.abs(np.mean(m_tap * x0))\n",
    "        overlaps_MF[i] = np.abs(np.mean(m_MF * x0))\n",
    "        \n",
    "    return overlaps_tap, overlaps_MF "
   ]
  },
  {
   "cell_type": "code",
   "execution_count": 17,
   "metadata": {},
   "outputs": [
    {
     "name": "stdout",
     "output_type": "stream",
     "text": [
      "0 0.2903989345181658 0.4153746579766111\n",
      "1 0.2648482797520719 0.2884754029357579\n",
      "2 0.28673903411283974 0.31750998597211194\n",
      "3 0.2583375462585446 0.35279046284397575\n",
      "4 0.31869526432905104 0.43138440802272227\n",
      "5 0.3238345590148472 0.4394030981154677\n",
      "6 0.28014694414066216 0.3750771364319073\n",
      "7 0.23036608899728636 0.3908609647085785\n",
      "8 0.33672268625883245 0.3866572772856889\n",
      "9 0.31456835745424055 0.3502892755254492\n"
     ]
    }
   ],
   "source": [
    "noise_vars = np.arange(0.1, 2.0, 0.25)\n",
    "size_x = 100\n",
    "n_real = 10\n",
    "\n",
    "o_tap = []\n",
    "o_MF = []\n",
    "\n",
    "for rep in range(n_real):\n",
    "    overlaps_tap, overlaps_MF  = run_experiment(noise_vars, size_x=size_x)\n",
    "    o_tap.append(overlaps_tap)\n",
    "    o_MF.append(overlaps_MF)\n",
    "    print(rep,o_MF[-1].mean(),o_tap[-1].mean())\n",
    "# turn lists of arrays into 2D arrays\n",
    "o_tap, o_MF = tuple(\n",
    "    map(\n",
    "        np.array, \n",
    "        (o_tap, o_MF)\n",
    "    )\n",
    ")"
   ]
  },
  {
   "cell_type": "code",
   "execution_count": 18,
   "metadata": {},
   "outputs": [],
   "source": [
    "### NOTE1: the last three points for MF have low, but not zero, standard deviation\n",
    "### NOTE2: the absolute value is useful to avoid the possibility of optimal solutions\n",
    "###        with inverse correlation with the sampled spins, i.e., ov = -1."
   ]
  },
  {
   "cell_type": "code",
   "execution_count": 19,
   "metadata": {},
   "outputs": [
    {
     "data": {
      "text/plain": [
       "<matplotlib.legend.Legend at 0x7fbb20564640>"
      ]
     },
     "execution_count": 19,
     "metadata": {},
     "output_type": "execute_result"
    },
    {
     "data": {
      "image/png": "[encoded data removed]",
      "text/plain": [
       "<Figure size 720x720 with 1 Axes>"
      ]
     },
     "metadata": {
      "needs_background": "light"
     },
     "output_type": "display_data"
    }
   ],
   "source": [
    "plt.figure(figsize=(10, 10))\n",
    "\n",
    "plt.errorbar(noise_vars, o_tap.mean(axis=0), yerr=o_tap.std(axis=0), marker=\"o\", c='b', label='TAP')\n",
    "plt.errorbar(noise_vars, o_MF.mean(axis=0), yerr=o_MF.std(axis=0), marker=\"*\", c='r', label='Mean Field')\n",
    "\n",
    "plt.legend()\n",
    "#plt.yscale(\"log\")\n",
    "plt.ylabel(\"overlap($m_{model},m_{planted}$)\",fontsize=20)\n",
    "plt.xlabel(r\"$\\sigma^2$\",fontsize=20)\n",
    "plt.legend(fontsize=20)\n",
    "\n",
    "# plt.savefig('./figures/overlap_TAP_vs_MF_ex1.png')"
   ]
  },
  {
   "cell_type": "code",
   "execution_count": null,
   "metadata": {},
   "outputs": [],
   "source": []
  },
  {
   "cell_type": "code",
   "execution_count": null,
   "metadata": {},
   "outputs": [],
   "source": []
  },
  {
   "cell_type": "code",
   "execution_count": null,
   "metadata": {},
   "outputs": [],
   "source": []
  }
 ],
 "metadata": {
  "kernelspec": {
   "display_name": "Python 3",
   "language": "python",
   "name": "python3"
  },
  "language_info": {
   "codemirror_mode": {
    "name": "ipython",
    "version": 3
   },
   "file_extension": ".py",
   "mimetype": "text/x-python",
   "name": "python",
   "nbconvert_exporter": "python",
   "pygments_lexer": "ipython3",
   "version": "3.8.3"
  }
 },
 "nbformat": 4,
 "nbformat_minor": 2
}
