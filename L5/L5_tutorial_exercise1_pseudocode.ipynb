{
 "cells": [
  {
   "cell_type": "markdown",
   "metadata": {},
   "source": [
    "# TAP tutorial\n"
   ]
  },
  {
   "cell_type": "code",
   "execution_count": 1,
   "metadata": {},
   "outputs": [],
   "source": [
    "import numpy as np\n",
    "import matplotlib.pyplot as plt\n",
    "from scipy.optimize import fminbound\n",
    "plt.rc('text', usetex=True)\n",
    "plt.rc('font', family='serif')\n",
    "%matplotlib inline"
   ]
  },
  {
   "cell_type": "code",
   "execution_count": 1,
   "metadata": {},
   "outputs": [],
   "source": [
    "def iterate_sc_equation(J, beta, s0=None, max_iter=None, tol=1e-7, verbose=True, approximation='MF'):\n",
    "    \"\"\"Iterate MF or TAP self-consistency equation\"\"\"\n",
    "    \n",
    "    #TODO\n",
    "            \n",
    "    return m"
   ]
  },
  {
   "cell_type": "code",
   "execution_count": 2,
   "metadata": {},
   "outputs": [],
   "source": [
    "fs=30  # label fontsize\n",
    "fsl=20 # legend fontsize"
   ]
  },
  {
   "cell_type": "markdown",
   "metadata": {},
   "source": [
    "## Point a)"
   ]
  },
  {
   "cell_type": "code",
   "execution_count": 3,
   "metadata": {},
   "outputs": [],
   "source": [
    "def sample_instance(N, var_noise):\n",
    "    \"\"\"Sample {J} from P(J)= Normal(0, var_noise)\"\"\"\n",
    "    \n",
    "     #TODO\n",
    "\n",
    "    return J"
   ]
  },
  {
   "cell_type": "markdown",
   "metadata": {},
   "source": [
    "Example call"
   ]
  },
  {
   "cell_type": "code",
   "execution_count": null,
   "metadata": {},
   "outputs": [],
   "source": [
    "J = sample_instance(100, 0.1)\n",
    "iterate_sc_equation(J, 1., verbose=True, max_iter=20, approximation='TAP')"
   ]
  },
  {
   "cell_type": "code",
   "execution_count": 6,
   "metadata": {},
   "outputs": [],
   "source": [
    "def SK_simul(N, beta, J, t_max=None, t_eq=None):\n",
    "    t_max = t_max or 1000 * N     # max number of iterations \n",
    "    t_eq = t_eq or 10 * N         # number of MCMC iterations before convergence\n",
    "    \n",
    "     #TODO"
   ]
  },
  {
   "cell_type": "code",
   "execution_count": 7,
   "metadata": {},
   "outputs": [],
   "source": [
    "beta = 1.\n",
    "N_list = [10, 100, 1000]\n",
    "var_noise = 1"
   ]
  },
  {
   "cell_type": "code",
   "execution_count": null,
   "metadata": {},
   "outputs": [],
   "source": [
    "fig, ax = plt.subplots(len(N_list), figsize=(10, 3 * len(N_list)))\n",
    "for i, N in enumerate(N_list):\n",
    "    J =  #TODO\n",
    "    print('\\nRunning MCMC for N = ', N) \n",
    "    m =  #TODO\n",
    "    print('Finding m* for MF and TAP approximations for N =', N)\n",
    "    m_mf =  #TODO\n",
    "    m_tap =  #TODO\n",
    "    ax[i].plot(m, label=r'N = {0}'.format(N))\n",
    "    ax[i].plot(np.ones_like(m) * m_mf.mean(), label='m* MF', c='r')\n",
    "    ax[i].plot(np.ones_like(m) * m_tap.mean(), label='m* TAP', c='b')\n",
    "    ax[i].legend(loc='upper right',fontsize=20)\n",
    "    ax[i].set_ylabel('m',fontsize=20)\n"
   ]
  },
  {
   "cell_type": "markdown",
   "metadata": {},
   "source": [
    "## Point b)"
   ]
  },
  {
   "cell_type": "code",
   "execution_count": null,
   "metadata": {
    "scrolled": false
   },
   "outputs": [],
   "source": [
    "var_noise=1.\n",
    "fig, ax = plt.subplots(len(N_list), 2, figsize=(10, 3 * len(N_list)))\n",
    "for i, N in enumerate(N_list):\n",
    "    J =  #TODO\n",
    "    print(f'\\nIterating MF fixed point equations for N = {N}')\n",
    "    m_mf =  #TODO\n",
    "    print(f'Iterating TAP fixed point equations for N = {N}')\n",
    "    m_tap =  #TODO\n",
    "    print('Running Metropolis-Hastings sampler ')\n",
    "    m_gt =  #TODO\n",
    "    ax[i, 0].scatter(m_gt, m_mf, label=f'MF N = {N}', c='r')\n",
    "    ax[i, 1].scatter(m_gt, m_tap, label=f'TAP N = {N}', c='b')\n",
    "    ax[i, 0].legend(loc='upper right',fontsize=20)\n",
    "    ax[i, 1].legend(loc='upper right',fontsize=20)\n",
    "    ax[i, 0].set_ylabel(r'$m_{approx}$',fontsize=20)\n",
    "ax[-1, 0].set_xlabel(r'$m_{MCMC}$',fontsize=20)\n",
    "ax[-1, 1].set_xlabel(r'$m_{MCMC}$',fontsize=20)\n"
   ]
  },
  {
   "cell_type": "code",
   "execution_count": null,
   "metadata": {},
   "outputs": [],
   "source": []
  }
 ],
 "metadata": {
  "kernelspec": {
   "display_name": "Python 3",
   "language": "python",
   "name": "python3"
  },
  "language_info": {
   "codemirror_mode": {
    "name": "ipython",
    "version": 3
   },
   "file_extension": ".py",
   "mimetype": "text/x-python",
   "name": "python",
   "nbconvert_exporter": "python",
   "pygments_lexer": "ipython3",
   "version": "3.7.10"
  }
 },
 "nbformat": 4,
 "nbformat_minor": 2
}
