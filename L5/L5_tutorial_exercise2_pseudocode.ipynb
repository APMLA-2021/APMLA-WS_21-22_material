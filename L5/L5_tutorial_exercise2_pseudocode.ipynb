{
 "cells": [
  {
   "cell_type": "markdown",
   "metadata": {},
   "source": [
    "# Planted SK model"
   ]
  },
  {
   "cell_type": "code",
   "execution_count": 1,
   "metadata": {},
   "outputs": [],
   "source": [
    "import numpy as np\n",
    "import networkx as nx\n",
    "import matplotlib.pyplot as plt\n",
    "from IPython.display import Latex\n",
    "np.random.seed(14753)\n",
    "%matplotlib inline"
   ]
  },
  {
   "cell_type": "markdown",
   "metadata": {},
   "source": [
    "Write a function to sample an instance of $(\\mathbf{s},\\mathbf{J})$.\n"
   ]
  },
  {
   "cell_type": "markdown",
   "metadata": {},
   "source": [
    "## Point c)"
   ]
  },
  {
   "cell_type": "markdown",
   "metadata": {},
   "source": [
    "From points a) and b) of exercise 1 we know that the posterior distribution of $s$ is a Boltzmann distribution\n",
    "\n",
    "$$ P(s | J ) \\propto e^{\\frac{\\beta}{\\sqrt{N}} \\sum_{ij}J_{ij} s_i s_j}$$\n",
    "\n",
    "To sample a particular realization we follow the generative model at hand: first we sample a \"planted\" realization of $s$ from the prior \n",
    "\n",
    "$$s_i \\sim \\frac{1}{2} \\delta(s_i - 1) + \\frac{1}{2} \\delta(s_i + 1)$$\n",
    "\n",
    "and then sample a realization of $J$ from the likelihood \n",
    "\n",
    "$$J_{ij} \\sim N \\left(\\frac{s_i s_j}{\\sqrt{N}}, \\sigma^2 \\right) $$"
   ]
  },
  {
   "cell_type": "code",
   "execution_count": 8,
   "metadata": {},
   "outputs": [],
   "source": [
    "def sample_instance(size_x, var_noise):\n",
    "    \"\"\"Sample {x, J} from P(x, J)\"\"\"\n",
    "    \n",
    "    #TODO\n",
    "\n",
    "    return x0, J"
   ]
  },
  {
   "cell_type": "code",
   "execution_count": null,
   "metadata": {},
   "outputs": [],
   "source": [
    "var_noise = 0.1\n",
    "x0, J = sample_instance(size_x=5000, var_noise=var_noise)\n",
    "print(x0, end='\\n\\n')\n",
    "print(J)"
   ]
  },
  {
   "cell_type": "markdown",
   "metadata": {},
   "source": [
    "## Points d) e) f)"
   ]
  },
  {
   "cell_type": "markdown",
   "metadata": {},
   "source": [
    "* d) Write a function that implements the TAP equation to approximate the mean $\\hat{\\mathbf{s}}$ of $P(\\mathbf{s}|\\mathbf{J})$.   \n",
    "This is an iteration that, if it converges, gives a very good approximation for $\\hat{\\mathbf{s}}$ as $N\\rightarrow \\infty$.   \n",
    "For numerical reasons implement the fixed point iterations as follows:\n",
    "\\begin{align*}\n",
    "m_i^{(t+1)} &= \\tanh \\left(  \\frac{1}{\\sigma^2 \\sqrt{N}} \\sum_j J_{ij} \\, m_j^{(t)}  \\right)   && \\mbox{Mean Field}   \t\\\\\n",
    "m_i^{(t+1)} &= \\tanh \\left(  \n",
    "\t\\frac{1}{\\sigma^2 \\sqrt{N}} \\sum_j J_{ij} \\, m_j^{(t)}  - \n",
    "\tm_i^{(t-1)} \\frac{1}{N \\sigma^4} \\sum_j J^{2}_{ij}\\, (1 - (m_j^{(t)})^2)   \\right)      \n",
    "\t&& \\mbox{TAP}   \t\\\\\n",
    "\\end{align*}  \n",
    "\n",
    "* e) Run some experiments ($N_{real} \\in [10,100]$ re-samplings of $J, s$ at your choice) for $N=10,100,1000,5000$ and fixed $\\sigma^{2}=0.1$ and check that the overlap  with ground-truth improves with the iterations.  \n",
    "\n",
    "The overlap is defined as: $overlap(\\mathbf{m},\\mathbf{s}_{0}) := | \\frac{\\mathbf{m}\\cdot \\mathbf{s}_{0}}{N}|$.  \n",
    "\n",
    "* f) \n",
    "    * i) Run sum experiments ($N_{real} \\in [10,100]$ re-samplings of $J, s$ at your choice) for $N=10,100,1000,5000$ and varying $\\sigma^{2} \\in [0.1,2]$. \n",
    "    * ii) Repeat the same experiments but using the MF approximation instead.  \n",
    "    * iii) Plot the performance metrics values at convergence for TAP and MF as a function of the noise $\\sigma^{2}$ for various $N$.  \n",
    "Comment on what you observe.\n",
    "\n"
   ]
  },
  {
   "cell_type": "code",
   "execution_count": 10,
   "metadata": {},
   "outputs": [],
   "source": [
    "def iterate_sc_equation(J, var_noise, s0=None, max_iter=None, tol=1e-7, verbose=True, approximation='MF'):\n",
    "    \"\"\"Iterate MF or TAP self-consistency equation\"\"\"\n",
    "    \n",
    "    # Some pre-processing\n",
    "    size_x = J.shape[0]\n",
    "    max_iter = max_iter or 100 * size_x\n",
    "    \n",
    "    #TODO\n",
    "            \n",
    "    return m"
   ]
  },
  {
   "cell_type": "markdown",
   "metadata": {},
   "source": [
    "Example of call of iterate_tap"
   ]
  },
  {
   "cell_type": "code",
   "execution_count": null,
   "metadata": {},
   "outputs": [],
   "source": [
    "iterate_sc_equation(J, var_noise, max_iter=30, approximation='TAP')"
   ]
  },
  {
   "cell_type": "markdown",
   "metadata": {},
   "source": [
    "Run experiment for varying levels of noise"
   ]
  },
  {
   "cell_type": "code",
   "execution_count": 12,
   "metadata": {},
   "outputs": [],
   "source": [
    "def run_experiment(noise_vars, size_x, verbose=False):\n",
    "    \"\"\"Compute overlap obtained by AMP using different noise variances\"\"\"\n",
    "    overlaps_tap = np.zeros(len(noise_vars))\n",
    "    overlaps_MF = np.zeros(len(noise_vars))\n",
    "    \n",
    "    # For each variance in noise_vars, sample new instance and run AMP\n",
    "    for i, var in enumerate(noise_vars):\n",
    "        #TODO\n",
    "        \n",
    "    return overlaps_tap, overlaps_MF "
   ]
  },
  {
   "cell_type": "code",
   "execution_count": null,
   "metadata": {},
   "outputs": [],
   "source": [
    "noise_vars = np.arange(0.1, 2.0, 0.25)\n",
    "size_x = 100\n",
    "n_real = 10\n",
    "\n",
    "o_tap = []\n",
    "o_MF = []\n",
    "\n",
    "for rep in range(n_real):\n",
    "    overlaps_tap, overlaps_MF  = #TODO\n",
    "    o_tap.append(overlaps_tap)\n",
    "    o_MF.append(overlaps_MF)\n",
    "    print(rep,o_MF[-1].mean(),o_tap[-1].mean())\n",
    "# turn lists of arrays into 2D arrays\n",
    "o_tap, o_MF = tuple(\n",
    "    map(\n",
    "        np.array, \n",
    "        (o_tap, o_MF)\n",
    "    )\n",
    ")"
   ]
  },
  {
   "cell_type": "code",
   "execution_count": null,
   "metadata": {},
   "outputs": [],
   "source": [
    "plt.figure(figsize=(10, 10))\n",
    "\n",
    "plt.errorbar(noise_vars, o_tap.mean(axis=0), yerr=o_tap.std(axis=0), marker=\"o\", c='b', label='TAP')\n",
    "plt.errorbar(noise_vars, o_MF.mean(axis=0), yerr=o_MF.std(axis=0), marker=\"*\", c='r', label='Mean Field')\n",
    "\n",
    "plt.legend()\n",
    "plt.ylabel(\"overlap($m_{model},m_{planted}$)\",fontsize=20)\n",
    "plt.xlabel(r\"$\\sigma^2$\",fontsize=20)\n",
    "plt.legend(fontsize=20)\n",
    "\n"
   ]
  },
  {
   "cell_type": "code",
   "execution_count": null,
   "metadata": {},
   "outputs": [],
   "source": []
  }
 ],
 "metadata": {
  "kernelspec": {
   "display_name": "Python 3",
   "language": "python",
   "name": "python3"
  },
  "language_info": {
   "codemirror_mode": {
    "name": "ipython",
    "version": 3
   },
   "file_extension": ".py",
   "mimetype": "text/x-python",
   "name": "python",
   "nbconvert_exporter": "python",
   "pygments_lexer": "ipython3",
   "version": "3.7.10"
  }
 },
 "nbformat": 4,
 "nbformat_minor": 2
}
