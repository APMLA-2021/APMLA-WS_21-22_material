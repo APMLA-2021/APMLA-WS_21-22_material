{
 "cells": [
  {
   "cell_type": "code",
   "execution_count": null,
   "metadata": {},
   "outputs": [],
   "source": [
    "import networkx as nx\n",
    "import numpy as np\n",
    "from scipy.spatial import distance\n",
    "import matplotlib.pyplot as plt\n",
    "from IPython.display import Image\n",
    "%matplotlib notebook"
   ]
  },
  {
   "cell_type": "markdown",
   "metadata": {},
   "source": [
    "# Assignment APMLA-WS 2021-22: \n",
    "\n",
    "## Belief Propagation for random matching problem"
   ]
  },
  {
   "cell_type": "markdown",
   "metadata": {},
   "source": [
    " Matching is another classical problem of graph theory. It is related to a dimer problem in statistical physics. Given a  (unweighted,\n",
    "  undirected) graph $G(V,E)$ a matching $M \\subseteq E$ is defined as a subset of edges such that if $(ij) \\in M$ then\n",
    "    no other edge that contains node $i$ or $j$ can be in $M$. In other words a matching is a subset of edges such that no two edges of the\n",
    "    set share a node. \n",
    "\n",
    " Fill up this _jupyter_ notebook with the skeleton of a code to solve this assignment. "
   ]
  },
  {
   "cell_type": "markdown",
   "metadata": {},
   "source": [
    "### Point a)\n",
    "Write a probability distribution that is uniform over all\n",
    "    matchings on a given graph. _Hint_: consider binary random variables $\\sigma_{ij}$ on the network edges."
   ]
  },
  {
   "cell_type": "code",
   "execution_count": null,
   "metadata": {
    "collapsed": true
   },
   "outputs": [],
   "source": []
  },
  {
   "cell_type": "markdown",
   "metadata": {},
   "source": [
    "### Point b)\n",
    "Write a probability distribution that that gives a larger weight to larger matchings, where the\n",
    "    size of a matching is simply $|M|$. _Hint_: you need to write $|M|$ as a function of $|E|$ and $\\sum_{(ij)\\in E}\\sigma_{ij}$ for $\\sigma_{ij}\\in M$."
   ]
  },
  {
   "cell_type": "code",
   "execution_count": null,
   "metadata": {
    "collapsed": true
   },
   "outputs": [],
   "source": []
  },
  {
   "cell_type": "markdown",
   "metadata": {},
   "source": [
    "### Point c)\n",
    "Draw a factor graph corresponding to it for the example of a graph with 6 nodes and edges $E=\\left\\{(1,2),(1,3),(2,3),(1,4),(2,5), (3,6)\\right\\}$. You can add it to the notebook as a figure or using latex package _tikz_."
   ]
  },
  {
   "cell_type": "code",
   "execution_count": null,
   "metadata": {},
   "outputs": [],
   "source": [
    "#Image(\"./path.png\")\n"
   ]
  },
  {
   "cell_type": "markdown",
   "metadata": {},
   "source": [
    "### Point d)\n",
    "Using BP to model marginals of the matching assignment, denote as:\n",
    " * $\\nu_{\\sigma_{ij}}^{(ij) \\to i} $ the messages from _variable_ node $(ij)$ to _function_ node $i$.\n",
    " * $  \\hat{\\nu}_{\\sigma_{ij}}^{i \\to (ij)}$ the message from _function_ node $i$ to  _variable_ node $(ij)$.  \n",
    " \n",
    "Note that they are both functions of the state $\\sigma_{ij}$ of variable node $(ij)$.  \n",
    "\t_Hint_: here variable nodes (circles) correspond to an edge $e=(i,j) \\in E$ and factor nodes (squares) correspond to nodes $i \\in V$ in the \\textit{original} network $G(V,E)$.  \n",
    "* Write BP equations for this model.   \n",
    "_Hint_: write an explicit derivation for _each of the two possible_ values of $\\sigma_{ij}$.\n",
    "\tNotice that we are implementing _hard_ constraints. This means that for each value of $\\sigma_{ij}$, there can be only a limited number of _allowed_ configurations of $\\left\\{\\sigma_{ik}\\right\\}$, for $k \\in \\partial i \\setminus j$. In principle there should be $\\sim 2^{k_{i}-1}$ of them, but in practice, many are not allowed once $\\sigma_{ij}$ is fixed; we remain with ${k_{i}}$ allowed configurations (for one of the two values of $\\sigma_{ij}$) and only one configuration allowed for the other value of $\\sigma_{ij}$. Do _not_ consider the configuration where $(ij) \\notin M$ AND $(ik)  \\notin M$, $\\forall k \\in \\partial i \\setminus j$, for a total of ${k_{i}}-1$ allowed configuration to be considered in the BP implementation.\n"
   ]
  },
  {
   "cell_type": "code",
   "execution_count": null,
   "metadata": {
    "collapsed": true
   },
   "outputs": [],
   "source": []
  },
  {
   "cell_type": "markdown",
   "metadata": {},
   "source": [
    "### Point e)\n",
    "Write the equation for the one-point marginal $P(\\sigma_{i})$ and the two-point marginal $P(\\sigma_{i},\\sigma_{j})$ obtained from BP."
   ]
  },
  {
   "cell_type": "code",
   "execution_count": null,
   "metadata": {
    "collapsed": true
   },
   "outputs": [],
   "source": []
  },
  {
   "cell_type": "markdown",
   "metadata": {},
   "source": [
    "## BP Implementation (point f)"
   ]
  },
  {
   "cell_type": "markdown",
   "metadata": {},
   "source": [
    "### Point i)\n",
    "Implement the BP equations for Erdos-Renyi graphs of $N=200$ nodes as derived above. "
   ]
  },
  {
   "cell_type": "code",
   "execution_count": null,
   "metadata": {
    "collapsed": true
   },
   "outputs": [],
   "source": [
    "# Generate graph\n",
    "N, c = 200, 4  # N is the number of nodes, c is the average degree\n",
    "G = nx.erdos_renyi_graph(n=N, p=c/(N-1), seed=29)\n",
    "G = G.to_directed()"
   ]
  },
  {
   "cell_type": "code",
   "execution_count": null,
   "metadata": {
    "collapsed": true
   },
   "outputs": [],
   "source": [
    "# Checking the convergence\n",
    "def convergence(# FILL):\n",
    "    # FILL\n",
    "    return(err, err < abs_tol)\n"
   ]
  },
  {
   "cell_type": "code",
   "execution_count": null,
   "metadata": {
    "collapsed": true
   },
   "outputs": [],
   "source": [
    "def BP(G, init='random', update='random', max_it=1000, abs_tol=1e-4, alpha=0.1, report=False, seed=98):\n",
    "    \n",
    "    if init == 'random':\n",
    "        np.random.seed(seed)\n",
    "        for e in G.edges():\n",
    "            G.edges()[e]['message_t'] = # FILL\n",
    "    elif init == 'all-negative':\n",
    "        for e in G.edges():\n",
    "            G.edges()[e]['message_t'] = # FILL\n",
    "    elif init == 'all-positive':\n",
    "        for e in G.edges():\n",
    "            G.edges()[e]['message_t'] = # FILL\n",
    "        \n",
    "    # Iterating\n",
    "    conv, it = # FILL\n",
    "    differences = []\n",
    "    \n",
    "    if update=='parallel':\n",
    "        while # FILL\n",
    "            message_new = {}\n",
    "            for e in G.edges():\n",
    "                i = e[0]\n",
    "                j = e[1]\n",
    "                \n",
    "                # FILL\n",
    "                        \n",
    "                # FILL\n",
    "                    \n",
    "            diff, conv = convergence(message_new, G, abs_tol)\n",
    "            differences.append(diff)\n",
    "            it+=1\n",
    "            # FILL\n",
    "\n",
    "    elif update=='random':\n",
    "        while # FILL:\n",
    "            message_old = {}\n",
    "            perm = list(G.edges())\n",
    "            np.random.seed(seed)\n",
    "            np.random.shuffle(perm)\n",
    "            for e in perm:\n",
    "                message_old[e] = # FILL\n",
    "                i = e[0]\n",
    "                j = e[1]\n",
    "                \n",
    "                # FILL\n",
    "\n",
    "            diff, conv = convergence(message_old, G, abs_tol)\n",
    "            differences.append(diff)\n",
    "            it+=1\n",
    "            seed+=1\n",
    "    \n",
    "    if report:\n",
    "        print('Number of iterations: {0}'.format(it))\n",
    "    \n",
    "    return(it, differences)"
   ]
  },
  {
   "cell_type": "markdown",
   "metadata": {},
   "source": [
    "## Point ii) \n",
    "Check how the behavior depends on the order of update for the ``random'' initialization, i.e. compare what happens if you update all messages at once or sequentially at random one by one."
   ]
  },
  {
   "cell_type": "code",
   "execution_count": null,
   "metadata": {
    "scrolled": false
   },
   "outputs": [],
   "source": [
    "fig, ax = plt.subplots(1,2, figsize=(10,5))\n",
    "\n",
    "# Parallel update (all messages at once)\n",
    "x, y = BP(# FILL)\n",
    "ax[0].plot(np.arange(x), y)\n",
    "ax[0].set_title('Parallel update', size=16)\n",
    "ax[0].set_xlabel('Number of iterations',size=12)\n",
    "ax[0].set_ylabel('$err$',size=12)\n",
    "\n",
    "# Random update (one by one)\n",
    "x, y = BP(# FILL)\n",
    "ax[1].plot(np.arange(x), y)\n",
    "ax[1].set_title('Random update', size=16)\n",
    "ax[1].set_xlabel('Number of iterations', size=12)\n",
    "ax[1].set_ylabel('$err$',size=12)\n",
    "\n",
    "plt.show()"
   ]
  },
  {
   "cell_type": "markdown",
   "metadata": {},
   "source": [
    "As last time, the parallel update needs more iterations for reaching the converge than the random update. "
   ]
  },
  {
   "cell_type": "markdown",
   "metadata": {},
   "source": [
    "### Point iii)\n",
    "  Initialize BP in 3 different ways (recall that they are a function of random variables $\\sigma_{ij} \\in \\left\\{0,1\\right\\}$): \n",
    "* ``random'' : each of the two possible values of $\\sigma_{ij}$ is selected uniformly at random in $(0,1)$;\n",
    "*  ``all-negative'' : close to the point $(1,0)$;\n",
    "* ``all-positive'' : close to the point $(0,1)$;  \n",
    "\n",
    "and iterate the equations until convergence for each of these three.   \n",
    "Define converge as the time when the $err< \\tilde{\\epsilon}$ (as defined in tutorial 10).  \n",
    "* Plot the behavior of  $err$ as a function of iteration time for the 3 different initializations (one plot with 3 curves).  \n",
    "\n",
    "Use the update (parallel or sequential at random) that converges faster.\n"
   ]
  },
  {
   "cell_type": "code",
   "execution_count": null,
   "metadata": {},
   "outputs": [],
   "source": [
    "N, c = 200, 4\n",
    "\n",
    "G = nx.erdos_renyi_graph(n=N, p=c/(N-1), seed=29)\n",
    "G = G.to_directed()\n",
    "\n",
    "plt.figure(figsize=(10,5))\n",
    "for # FILL:\n",
    "    print('\\nInitialization {0}'.format(# FILL))\n",
    "    x, y = BP(# FILL)\n",
    "    plt.plot(np.arange(x), y, label=# FILL)\n",
    "plt.legend(fontsize=12)\n",
    "plt.xlabel('Number of iterations',size=12)\n",
    "plt.ylabel('$err$', size=12)\n",
    "plt.show()"
   ]
  },
  {
   "cell_type": "markdown",
   "metadata": {},
   "source": [
    "### Point iv)\n",
    "For parameters where the update converges, plot the convergence time as a function of the average degree $c=[2,\\dots,7]$.  \n",
    "Do this on as large graphs as is  feasible with your code."
   ]
  },
  {
   "cell_type": "code",
   "execution_count": null,
   "metadata": {},
   "outputs": [],
   "source": [
    "c_choices = np.linspace(2, 7, 12)\n",
    "N_choices = [# FILL]\n",
    "result = np.zeros((len(c_choices),len(N_choices)+1))\n",
    "result[:, 0] = c_choices\n",
    "seed_graph = 29\n",
    "for j, N in enumerate(N_choices):\n",
    "    print(N)\n",
    "    for i, c in enumerate(c_choices):\n",
    "        iterations = []\n",
    "        for _ in range(5):\n",
    "            G = nx.erdos_renyi_graph(n=N, p=c/(N-1), seed=seed_graph)\n",
    "            G = G.to_directed()        \n",
    "            x, y = BP(# FILL)\n",
    "            iterations.append(x)\n",
    "            seed_graph+=1\n",
    "        result[i, j+1] = np.median(iterations)"
   ]
  },
  {
   "cell_type": "code",
   "execution_count": null,
   "metadata": {},
   "outputs": [],
   "source": [
    "plt.figure(figsize=(10,5))\n",
    "for col in range(len(N_choices)):\n",
    "    plt.plot(result[:,0], result[:,col+1], label='N = {0}'.format(N_choices[col]))\n",
    "plt.legend(fontsize=12)\n",
    "plt.xlabel('Average degree $c$', size=12)\n",
    "plt.ylabel('Converge iteration', size=12)\n",
    "plt.show()"
   ]
  },
  {
   "cell_type": "markdown",
   "metadata": {},
   "source": [
    "### Point v)\n",
    "Assign one color value $\\in \\left\\{0,1\\right\\}$, $1$ if the edge belong to the matching, 0 otherwise, to each edge at convergence, based on the argmax of the suitable marginals.  "
   ]
  },
  {
   "cell_type": "code",
   "execution_count": null,
   "metadata": {},
   "outputs": [],
   "source": [
    "# Attaching marginal distributions to each edge\n",
    "def marginals_one_point(G):\n",
    "    for e in G.edges():\n",
    "        i = e[0]\n",
    "        j = e[1]\n",
    "\n",
    "        G.edges()[(i,j)]['marginal'] = # FILL\n",
    "        \n",
    "# Assessing the matching\n",
    "def accuracy(G):\n",
    "    # error is when a violation occurs \n",
    "    # FILL\n",
    "    return(errors)\n",
    "\n",
    "def calculate_edge_in_matching(G):\n",
    "    '''\n",
    "    Fraction of edges in M\n",
    "    '''\n",
    "    # FILL"
   ]
  },
  {
   "cell_type": "markdown",
   "metadata": {},
   "source": [
    "Compute the fraction of violations of the matching requirement you get over $N_{real}=10$ initializations of the graph and plot them as a function of $c$.\n"
   ]
  },
  {
   "cell_type": "code",
   "execution_count": null,
   "metadata": {
    "scrolled": false
   },
   "outputs": [],
   "source": [
    "c_choices = np.linspace(2, 7, 6)\n",
    "result1 = np.zeros((len(c_choices),4))\n",
    "result1[:, 0] = c_choices\n",
    "N = 100\n",
    "seed = 29\n",
    "N_real=10\n",
    "for i, c in enumerate(c_choices):\n",
    "    errors = []\n",
    "    n_one = 0\n",
    "    for _ in range(N_real):\n",
    "        G = nx.erdos_renyi_graph(n=N, p=c/(N-1), seed=seed)\n",
    "        G = G.to_directed()\n",
    "        x, y = BP(# FILL)\n",
    "        marginals_one_point(# FILL)\n",
    "        errors.append(# FILL)  \n",
    "        M_size= calculate_edge_in_matching(G)\n",
    "        n_one+=M_size\n",
    "        seed+=1\n",
    "        print(c,errors[-1],M_size)\n",
    "    print()\n",
    "    result1[i, 1] = np.mean(errors)\n",
    "    result1[i, 2] = np.std(errors)\n",
    "    result1[i, 3] = n_one/float(N_real)  # save the mean of the fraction of +1 \n",
    "    print('Total:',c,result1[i, 1],result1[i, 3])\n",
    "    print()\n",
    "    print()"
   ]
  },
  {
   "cell_type": "code",
   "execution_count": null,
   "metadata": {},
   "outputs": [],
   "source": [
    "plt.figure(figsize=(10,5))\n",
    "plt.plot(result1[:,0], result1[:,1])\n",
    "plt.xlabel('Average degree $c$', size=12)\n",
    "plt.ylabel('Fraction of violations', size=12)\n",
    "plt.show()"
   ]
  },
  {
   "cell_type": "code",
   "execution_count": null,
   "metadata": {},
   "outputs": [],
   "source": [
    "plt.figure(figsize=(10,5))\n",
    "plt.scatter(result1[:,0], result1[:,3])\n",
    "plt.xlabel('Average degree $c$', size=12)\n",
    "plt.ylabel('Fraction of edges in the set $M$', size=12)\n",
    "plt.show()"
   ]
  },
  {
   "cell_type": "markdown",
   "metadata": {},
   "source": [
    "### Additional examples"
   ]
  },
  {
   "cell_type": "code",
   "execution_count": null,
   "metadata": {
    "collapsed": true
   },
   "outputs": [],
   "source": [
    "def draw_graph(G, init):\n",
    "    plt.figure(figsize=(10,5))\n",
    "    # nodes\n",
    "    pos = nx.spring_layout(G)\n",
    "    nx.draw_networkx_nodes(G, pos, nodelist=list(np.arange(N)), node_size=500, node_color='lightblue')\n",
    "    # some math labels\n",
    "    labels = {}\n",
    "    for n in range(N):\n",
    "        labels[n] = n\n",
    "    nx.draw_networkx_labels(G, pos, labels, font_size=12)\n",
    "\n",
    "    # edges\n",
    "    col_positive = []\n",
    "    col_negative = []\n",
    "    for e in G.edges():\n",
    "        if np.argmax(G.edges()[e]['marginal'])==1:\n",
    "            col_positive.append(e)\n",
    "        else:\n",
    "            col_negative.append(e)\n",
    "\n",
    "    nx.draw_networkx_edges(G, pos, edgelist=col_negative, width=1, edge_color='b')\n",
    "    nx.draw_networkx_edges(G, pos, edgelist=col_positive,width=2, edge_color='r')\n",
    "    \n",
    "    plt.title('Initialization: {0}'.format(init), size=15)\n",
    "    plt.show()"
   ]
  },
  {
   "cell_type": "code",
   "execution_count": null,
   "metadata": {
    "scrolled": false
   },
   "outputs": [],
   "source": [
    "N, c = 28, 3\n",
    "G = nx.erdos_renyi_graph(n=N, p=c/(N-1), seed=486)\n",
    "G = G.to_directed()\n",
    "for # FILL\n",
    "    x, y = BP(# FILL)\n",
    "    marginals_one_point(G)\n",
    "    print('Number of errors: ', accuracy(# FILL))\n",
    "    draw_graph(G, # FILL)"
   ]
  },
  {
   "cell_type": "markdown",
   "metadata": {},
   "source": [
    "### Point vi)\n",
    "Plot also the fraction of edges in the set $M$ as a function of $c$ and for the 3 different initializations on the same plot. "
   ]
  },
  {
   "cell_type": "code",
   "execution_count": null,
   "metadata": {
    "collapsed": true
   },
   "outputs": [],
   "source": [
    "# Generate graph\n",
    "N, c = 100, 3  # N is the number of nodes, c is the average degree\n",
    "G = nx.erdos_renyi_graph(n=N, p=c/(N-1), seed=29)\n",
    "G = G.to_directed()\n",
    "\n",
    "N_real=10"
   ]
  },
  {
   "cell_type": "code",
   "execution_count": null,
   "metadata": {
    "scrolled": false
   },
   "outputs": [],
   "source": [
    "initializations=# FILL\n",
    "degrees=[2,3,4,5,6,7]\n",
    "\n",
    "M={};errors={}\n",
    "for init in initializations:\n",
    "    errors[init]={}\n",
    "    M[init]={}\n",
    "    for c in degrees:\n",
    "        errors[init][c]=np.zeros(N_real)\n",
    "        M[init][c]=np.zeros(N_real)\n",
    "\n",
    "for c in degrees:\n",
    "    for r in range(N_real):\n",
    "        G = nx.erdos_renyi_graph(n=N, p=c/(N-1),seed=r)\n",
    "        G = G.to_directed()\n",
    "        for # FILL\n",
    "            x, y = BP(# FILL)\n",
    "            marginals_one_point(G)\n",
    "            errors[init][c][r]=accuracy(# FILL)/N  # the maximum number of errors is given by the number of nodes\n",
    "            M[init][c][r]=calculate_edge_in_matching(# FILL)"
   ]
  },
  {
   "cell_type": "code",
   "execution_count": null,
   "metadata": {},
   "outputs": [],
   "source": [
    "colors={'random':'b','all-negative':'r','all-positive':'g'}\n",
    "plt.figure()\n",
    "\n",
    "t=0\n",
    "for c in degrees:\n",
    "    i=t\n",
    "    for init in initializations:\n",
    "        if t==0:\n",
    "            plt.scatter(i,M[init][c].mean(),label=init,c=colors[init])\n",
    "        else:\n",
    "            plt.scatter(i,M[init][c].mean(),c=colors[init])\n",
    "        plt.errorbar(i,M[init][c].mean(), yerr=M[init][c].std(),c=colors[init])\n",
    "        i+=0.1\n",
    "    t+=1\n",
    "\n",
    "plt.legend(loc='best')\n",
    "plt.ylabel('|M|')\n",
    "plt.xlabel('c')\n",
    "# plt.xticks([])"
   ]
  },
  {
   "cell_type": "markdown",
   "metadata": {},
   "source": [
    "### Point vii) \n",
    "Comment on how the behavior depends on the initialization."
   ]
  },
  {
   "cell_type": "code",
   "execution_count": null,
   "metadata": {
    "collapsed": true
   },
   "outputs": [],
   "source": []
  }
 ],
 "metadata": {
  "kernelspec": {
   "display_name": "Python 3",
   "language": "python",
   "name": "python3"
  },
  "language_info": {
   "codemirror_mode": {
    "name": "ipython",
    "version": 3
   },
   "file_extension": ".py",
   "mimetype": "text/x-python",
   "name": "python",
   "nbconvert_exporter": "python",
   "pygments_lexer": "ipython3",
   "version": "3.8.7"
  }
 },
 "nbformat": 4,
 "nbformat_minor": 2
}
