{
 "cells": [
  {
   "cell_type": "markdown",
   "metadata": {},
   "source": [
    "#  Tutorial 8: SBM and DC-SBM"
   ]
  },
  {
   "cell_type": "markdown",
   "metadata": {},
   "source": [
    " <font color='magneta'> In this tutorial, we will implement various inference techniques and models to solve the SBM on real networks. We will use several codes developed in the package pysbm. </font>"
   ]
  },
  {
   "cell_type": "markdown",
   "metadata": {},
   "source": [
    "# Exercise 1"
   ]
  },
  {
   "cell_type": "markdown",
   "metadata": {},
   "source": [
    "### Exercise 1.a"
   ]
  },
  {
   "cell_type": "markdown",
   "metadata": {},
   "source": [
    "* Clone the github repository pysbm at https://github.com/funket/pysbm."
   ]
  },
  {
   "cell_type": "markdown",
   "metadata": {},
   "source": [
    "### Exercise 1.b"
   ]
  },
  {
   "cell_type": "markdown",
   "metadata": {},
   "source": [
    "* Download the datasets of American College football *(football)*, Zachary’s karate club *(karate)* and Political blogs *(polblogs)* from http://www-personal.umich.edu/~mejn/netdata/ and put them inside the folder pysbm/Network Data/."
   ]
  },
  {
   "cell_type": "markdown",
   "metadata": {},
   "source": [
    "Now, we need to import the `pysbm` package and the `networkx` package, \n",
    "which is the used package for representing the networks. \n",
    "Additionally, we want to handle ```numpy``` structures and create some plots with `matplotlib`. \n",
    "\n",
    "If you later want to process larger graphs, we recommend using [PyPy](https://pypy.org). \n"
   ]
  },
  {
   "cell_type": "code",
   "execution_count": 4,
   "metadata": {},
   "outputs": [],
   "source": [
    "# Import libraries\n",
    "import pysbm\n",
    "import numpy as np\n",
    "import networkx as nx\n",
    "import matplotlib.pylab as plt"
   ]
  },
  {
   "cell_type": "code",
   "execution_count": 5,
   "metadata": {},
   "outputs": [],
   "source": [
    "dataset = {'karate':'./pysbm/Network Data/karate/karate.gml',\n",
    "           'football':'./pysbm/Network Data/football/football.gml',\n",
    "           'polblogs':'./pysbm/Network Data/polblogs/polblogs.gml'}"
   ]
  },
  {
   "cell_type": "code",
   "execution_count": 6,
   "metadata": {},
   "outputs": [],
   "source": [
    "colors = {0:'b',1:'r',2:'g',3:'orange',4:'black',5:'magenta'}"
   ]
  },
  {
   "cell_type": "markdown",
   "metadata": {},
   "source": [
    "We start with one of the standard examples, the karate club network.\n",
    "\n",
    "* Import dataset into a `networkx` network object. Make it `undirected` as we are interested in studying, for simplicity, only this version.   \n",
    "Keep only the largest connected component."
   ]
  },
  {
   "cell_type": "code",
   "execution_count": 7,
   "metadata": {},
   "outputs": [],
   "source": [
    "?nx.read_gml"
   ]
  },
  {
   "cell_type": "code",
   "execution_count": 8,
   "metadata": {},
   "outputs": [],
   "source": [
    "# Step 1: import the dataset karate_club\n",
    "graph = nx.read_gml(dataset['karate'], label='id')"
   ]
  },
  {
   "cell_type": "code",
   "execution_count": 9,
   "metadata": {},
   "outputs": [],
   "source": [
    "graph = graph.to_undirected()"
   ]
  },
  {
   "cell_type": "code",
   "execution_count": 10,
   "metadata": {},
   "outputs": [],
   "source": [
    "Gcc = sorted(nx.connected_components(graph), key=len, reverse=True)\n",
    "graph = graph.subgraph(Gcc[0])\n"
   ]
  },
  {
   "cell_type": "code",
   "execution_count": 11,
   "metadata": {},
   "outputs": [
    {
     "name": "stdout",
     "output_type": "stream",
     "text": [
      "34\n"
     ]
    }
   ],
   "source": [
    "print(graph.number_of_nodes())"
   ]
  },
  {
   "cell_type": "code",
   "execution_count": 12,
   "metadata": {},
   "outputs": [
    {
     "name": "stdout",
     "output_type": "stream",
     "text": [
      "78\n"
     ]
    }
   ],
   "source": [
    "print(graph.number_of_edges())"
   ]
  },
  {
   "cell_type": "markdown",
   "metadata": {},
   "source": [
    "**Goal**: replicate the example of Karrer and Newmann 2011 \n",
    "(https://journals.aps.org/pre/pdf/10.1103/PhysRevE.83.016107)"
   ]
  },
  {
   "cell_type": "markdown",
   "metadata": {},
   "source": [
    "Let's infer stochastic block models for the karate club graph with the standard  SBM. First, we need the graph and encapsulate the graph into a `partition` object with the known number of blocks."
   ]
  },
  {
   "cell_type": "code",
   "execution_count": 13,
   "metadata": {},
   "outputs": [],
   "source": [
    "K = 2\n",
    "standard_partition = pysbm.NxPartition(graph=graph, number_of_blocks=K)\n",
    "standard_objective_function = pysbm.TraditionalUnnormalizedLogLikelyhood(is_directed=False)"
   ]
  },
  {
   "cell_type": "markdown",
   "metadata": {},
   "source": [
    "Now we take a look at the current state and plot the nodes with size proportional to their degree and with color equivalent to the group they belong to."
   ]
  },
  {
   "cell_type": "code",
   "execution_count": 14,
   "metadata": {},
   "outputs": [
    {
     "data": {
      "image/png": "[encoded data removed]",
      "text/plain": [
       "<Figure size 432x288 with 1 Axes>"
      ]
     },
     "metadata": {},
     "output_type": "display_data"
    }
   ],
   "source": [
    "node_size = [np.log(graph.degree[i])*100+0.5 for i in list(graph.nodes())]\n",
    "position = nx.spring_layout(graph, iterations=100)\n",
    "\n",
    "plt.figure()\n",
    "nx.draw_networkx_nodes(graph, position, node_size=node_size,\n",
    "                      node_color=[colors[standard_partition.get_block_of_node(node)] for node in graph])\n",
    "nx.draw_networkx_edges(graph, pos=position, width=0.1)\n",
    "plt.axis('off')\n",
    "plt.show()"
   ]
  },
  {
   "cell_type": "markdown",
   "metadata": {},
   "source": [
    "### Exercise 1.c"
   ]
  },
  {
   "cell_type": "markdown",
   "metadata": {},
   "source": [
    "We now run 3 different inference methods:\n",
    "   * `KarrerInference`: the greedy with MC moves proposed by Karrer & Newman to find the maximum of the objective function.\n",
    "   * `MetropolisHastingInference`: a Metropolis Hasting MC scheme similar to Karrer & Newman but where there is an acceptance rate to a move. The Karrer & Newman instead, makes deterministic moves that always improve the objective function. \n",
    "   * `PeixotoInference`: a Metropolis Hasting MC scheme wich aggregates blocks, in addition to switching single nodes' groups. This is similar to `MetropolisHastingInference` but in addition merges blocks while performing moves."
   ]
  },
  {
   "cell_type": "markdown",
   "metadata": {},
   "source": [
    "All the three methods will end up in a local minimum of the objective function. Therefore we run the inference 10 times and keep the partition associated to the best value of the objective function."
   ]
  },
  {
   "cell_type": "markdown",
   "metadata": {},
   "source": [
    "### **Inference 1**: `KarrerInference`"
   ]
  },
  {
   "cell_type": "code",
   "execution_count": 18,
   "metadata": {
    "scrolled": true
   },
   "outputs": [
    {
     "name": "stdout",
     "output_type": "stream",
     "text": [
      "0 -233.52608348059132 -233.52608348059132\n",
      "1 -233.5260834805913 -233.5260834805913\n",
      "2 -239.4521718457837 -233.5260834805913\n",
      "3 -233.5260834805913 -233.5260834805913\n",
      "4 -244.55814672221362 -233.5260834805913\n",
      "5 -239.45217184578374 -233.5260834805913\n",
      "6 -239.4521718457837 -233.5260834805913\n",
      "7 -233.52608348059132 -233.5260834805913\n",
      "8 -233.5260834805913 -233.5260834805913\n",
      "9 -244.7413377895341 -233.5260834805913\n",
      "10 -241.2276636342584 -233.5260834805913\n",
      "11 -233.5260834805913 -233.5260834805913\n",
      "12 -253.813725222306 -233.5260834805913\n",
      "13 -239.45217184578374 -233.5260834805913\n",
      "14 -233.52608348059132 -233.5260834805913\n",
      "15 -233.5260834805913 -233.5260834805913\n",
      "16 -233.52608348059132 -233.5260834805913\n",
      "17 -239.4521718457837 -233.5260834805913\n",
      "18 -233.5260834805913 -233.5260834805913\n",
      "19 -233.5260834805913 -233.5260834805913\n",
      "20 -239.45217184578374 -233.5260834805913\n",
      "21 -245.2788552328234 -233.5260834805913\n",
      "22 -245.2788552328234 -233.5260834805913\n",
      "23 -239.45217184578374 -233.5260834805913\n",
      "24 -233.52608348059132 -233.5260834805913\n",
      "25 -253.813725222306 -233.5260834805913\n",
      "26 -233.52608348059132 -233.5260834805913\n",
      "27 -233.52608348059132 -233.5260834805913\n",
      "28 -244.7413377895341 -233.5260834805913\n",
      "29 -239.4521718457837 -233.5260834805913\n",
      "30 -233.5260834805913 -233.5260834805913\n",
      "31 -239.45217184578374 -233.5260834805913\n",
      "32 -239.4521718457837 -233.5260834805913\n",
      "33 -233.52608348059132 -233.5260834805913\n",
      "34 -241.2276636342584 -233.5260834805913\n",
      "35 -245.6959760591511 -233.5260834805913\n",
      "36 -244.88846592429104 -233.5260834805913\n",
      "37 -233.5260834805913 -233.5260834805913\n",
      "38 -239.4521718457837 -233.5260834805913\n",
      "39 -245.2788552328234 -233.5260834805913\n",
      "40 -244.88846592429107 -233.5260834805913\n",
      "41 -233.52608348059132 -233.5260834805913\n",
      "42 -239.4521718457837 -233.5260834805913\n",
      "43 -239.4521718457837 -233.5260834805913\n",
      "44 -263.929385266753 -233.5260834805913\n",
      "45 -233.5260834805913 -233.5260834805913\n",
      "46 -233.52608348059132 -233.5260834805913\n",
      "47 -244.08606091088618 -233.5260834805913\n",
      "48 -233.52608348059132 -233.5260834805913\n",
      "49 -233.5260834805913 -233.5260834805913\n",
      "50 -233.5260834805913 -233.5260834805913\n",
      "51 -239.4521718457837 -233.5260834805913\n",
      "52 -245.2788552328234 -233.5260834805913\n",
      "53 -240.46736870848505 -233.5260834805913\n",
      "54 -244.7413377895341 -233.5260834805913\n",
      "55 -241.2276636342584 -233.5260834805913\n",
      "56 -233.52608348059132 -233.5260834805913\n",
      "57 -233.52608348059132 -233.5260834805913\n",
      "58 -233.5260834805913 -233.5260834805913\n",
      "59 -239.4521718457837 -233.5260834805913\n",
      "60 -233.52608348059132 -233.5260834805913\n",
      "61 -259.05888198134096 -233.5260834805913\n",
      "62 -239.4521718457837 -233.5260834805913\n",
      "63 -233.52608348059132 -233.5260834805913\n",
      "64 -253.51678011076575 -233.5260834805913\n",
      "65 -233.5260834805913 -233.5260834805913\n",
      "66 -253.51678011076575 -233.5260834805913\n",
      "67 -233.52608348059132 -233.5260834805913\n",
      "68 -233.52608348059132 -233.5260834805913\n",
      "69 -239.45217184578374 -233.5260834805913\n",
      "70 -239.45217184578374 -233.5260834805913\n",
      "71 -233.52608348059132 -233.5260834805913\n",
      "72 -233.52608348059132 -233.5260834805913\n",
      "73 -239.45217184578374 -233.5260834805913\n",
      "74 -233.52608348059132 -233.5260834805913\n",
      "75 -239.45217184578374 -233.5260834805913\n",
      "76 -253.9902737168847 -233.5260834805913\n",
      "77 -241.2276636342584 -233.5260834805913\n",
      "78 -239.45217184578374 -233.5260834805913\n",
      "79 -285.95909770091674 -233.5260834805913\n",
      "80 -253.51678011076575 -233.5260834805913\n",
      "81 -239.45217184578374 -233.5260834805913\n",
      "82 -244.08606091088618 -233.5260834805913\n",
      "83 -239.45217184578374 -233.5260834805913\n",
      "84 -239.4521718457837 -233.5260834805913\n",
      "85 -244.88846592429107 -233.5260834805913\n",
      "86 -233.52608348059132 -233.5260834805913\n",
      "87 -239.4521718457837 -233.5260834805913\n",
      "88 -239.45217184578374 -233.5260834805913\n",
      "89 -233.52608348059132 -233.5260834805913\n",
      "90 -233.5260834805913 -233.5260834805913\n",
      "91 -239.4521718457837 -233.5260834805913\n",
      "92 -233.5260834805913 -233.5260834805913\n",
      "93 -233.52608348059132 -233.5260834805913\n",
      "94 -233.52608348059132 -233.5260834805913\n",
      "95 -239.4521718457837 -233.5260834805913\n",
      "96 -233.52608348059132 -233.5260834805913\n",
      "97 -244.7413377895341 -233.5260834805913\n",
      "98 -239.4521718457837 -233.5260834805913\n",
      "99 -233.52608348059132 -233.5260834805913\n"
     ]
    }
   ],
   "source": [
    "N_real=100\n",
    "best_objective=-1000000\n",
    "best_partition_standard=None\n",
    "for r in range(N_real):\n",
    "    standard_partition = pysbm.NxPartition(graph=graph, number_of_blocks=K)\n",
    "    standard_inference = pysbm.KarrerInference(graph, standard_objective_function, standard_partition)\n",
    "    standard_inference.infer_stochastic_block_model()\n",
    "    L = standard_objective_function.calculate(standard_partition)\n",
    "    if L > best_objective:\n",
    "        best_objective = L \n",
    "        best_partition_standard = standard_partition\n",
    "    print(r, L, best_objective)"
   ]
  },
  {
   "cell_type": "markdown",
   "metadata": {},
   "source": [
    "### **Inference 1b**: `KarrerInference` with no negative moves allowed."
   ]
  },
  {
   "cell_type": "code",
   "execution_count": 23,
   "metadata": {},
   "outputs": [
    {
     "name": "stdout",
     "output_type": "stream",
     "text": [
      "0 -257.91323395712465 -257.91323395712465\n",
      "1 -260.24199903412125 -257.91323395712465\n",
      "2 -297.9643235418555 -257.91323395712465\n",
      "3 -246.22858253925915 -246.22858253925915\n",
      "4 -240.9139936862718 -240.9139936862718\n",
      "5 -273.1068728322131 -240.9139936862718\n",
      "6 -238.58546355646743 -238.58546355646743\n",
      "7 -296.6741220168004 -238.58546355646743\n",
      "8 -257.17582121703515 -238.58546355646743\n",
      "9 -271.8847471614158 -238.58546355646743\n"
     ]
    }
   ],
   "source": [
    "N_real=10\n",
    "best_objective=-1000000\n",
    "best_partition_standard_nn=None\n",
    "for r in range(N_real):\n",
    "    # Your code here "
   ]
  },
  {
   "cell_type": "markdown",
   "metadata": {},
   "source": [
    "### **Inference 2**: `MetropolisHastingInference` "
   ]
  },
  {
   "cell_type": "code",
   "execution_count": 19,
   "metadata": {},
   "outputs": [
    {
     "name": "stdout",
     "output_type": "stream",
     "text": [
      "0 -233.5260834805913 -233.5260834805913\n",
      "1 -233.52608348059132 -233.5260834805913\n",
      "2 -233.52608348059132 -233.5260834805913\n",
      "3 -246.6868691470202 -233.5260834805913\n",
      "4 -233.5260834805913 -233.5260834805913\n",
      "5 -233.52608348059132 -233.5260834805913\n",
      "6 -233.52608348059132 -233.5260834805913\n",
      "7 -233.52608348059132 -233.5260834805913\n",
      "8 -233.5260834805913 -233.5260834805913\n",
      "9 -233.5260834805913 -233.5260834805913\n"
     ]
    }
   ],
   "source": [
    "N_real=10\n",
    "best_objective=-1000000\n",
    "best_partition_standard_MH=None\n",
    "for r in range(N_real):\n",
    "    # Your code here "
   ]
  },
  {
   "cell_type": "markdown",
   "metadata": {},
   "source": [
    "### **Inference 3**: `PeixotoInference` "
   ]
  },
  {
   "cell_type": "code",
   "execution_count": 20,
   "metadata": {},
   "outputs": [
    {
     "name": "stdout",
     "output_type": "stream",
     "text": [
      "0 -233.52608348059132 -233.52608348059132\n",
      "1 -239.4521718457837 -233.52608348059132\n",
      "2 -233.5260834805913 -233.5260834805913\n",
      "3 -233.52608348059132 -233.5260834805913\n",
      "4 -267.64568306550115 -233.5260834805913\n",
      "5 -233.52608348059132 -233.5260834805913\n",
      "6 -233.52608348059132 -233.5260834805913\n",
      "7 -233.52608348059132 -233.5260834805913\n",
      "8 -233.52608348059132 -233.5260834805913\n",
      "9 -233.52608348059132 -233.5260834805913\n"
     ]
    }
   ],
   "source": [
    "N_real=10\n",
    "best_objective=-1000000\n",
    "best_partition_standard_Peixoto=None\n",
    "for r in range(N_real):\n",
    "    # Your code here "
   ]
  },
  {
   "cell_type": "markdown",
   "metadata": {},
   "source": [
    "#### Plots the results"
   ]
  },
  {
   "cell_type": "code",
   "execution_count": 21,
   "metadata": {},
   "outputs": [],
   "source": [
    "def node_colors(colors, partition, graph):\n",
    "    node_colors = [colors[partition.get_block_of_node(node)] for node in graph]\n",
    "    \n",
    "    return node_colors"
   ]
  },
  {
   "cell_type": "code",
   "execution_count": 24,
   "metadata": {},
   "outputs": [
    {
     "data": {
      "image/png": "[encoded data removed]",
      "text/plain": [
       "<Figure size 1152x720 with 4 Axes>"
      ]
     },
     "metadata": {},
     "output_type": "display_data"
    }
   ],
   "source": [
    "models = [best_partition_standard, best_partition_standard_nn, best_partition_standard_MH, best_partition_standard_Peixoto]\n",
    "labels = ['Greedy', 'Greedy Non-Negative', 'MH', 'Peixoto']\n",
    "\n",
    "plt.figure(figsize=(16,10))\n",
    "for i, p in enumerate(models):\n",
    "    plt.subplot(2,2,i+1)\n",
    "    nx.draw_networkx_nodes(graph, position, node_size=node_size, node_color=node_colors(colors, p, graph))\n",
    "    nx.draw_networkx_edges(graph, pos=position, width=0.1)\n",
    "    plt.title(labels[i])\n",
    "    plt.axis('off')\n",
    "plt.show()"
   ]
  },
  {
   "cell_type": "markdown",
   "metadata": {},
   "source": [
    "### Exercise 1.d"
   ]
  },
  {
   "cell_type": "code",
   "execution_count": 25,
   "metadata": {},
   "outputs": [],
   "source": [
    "def find_groups(partition,graph,K=None):\n",
    "    groups = [[] for _ in range(K)]\n",
    "    for node in graph:\n",
    "        q = partition.get_block_of_node(node)\n",
    "        groups[q].append(node)\n",
    "    \n",
    "    return groups\n",
    "\n",
    "def ordered_nodelist(partition,graph,K=None):\n",
    "    groups = find_groups(partition, graph, K=K)\n",
    "    K = len(groups)\n",
    "    ordered_nodelist = sum(groups, [])\n",
    "    return ordered_nodelist"
   ]
  },
  {
   "cell_type": "markdown",
   "metadata": {},
   "source": [
    "* Plot the adjacency matrix ordered by blocks and compare it with the unordered one."
   ]
  },
  {
   "cell_type": "code",
   "execution_count": 26,
   "metadata": {},
   "outputs": [
    {
     "data": {
      "image/png": "[encoded data removed]",
      "text/plain": [
       "<Figure size 288x288 with 1 Axes>"
      ]
     },
     "metadata": {
      "needs_background": "light"
     },
     "output_type": "display_data"
    }
   ],
   "source": [
    "plt.matshow(nx.to_numpy_matrix(graph, nodelist=np.random.permutation(list(graph.nodes()))))\n",
    "plt.show()"
   ]
  },
  {
   "cell_type": "code",
   "execution_count": 27,
   "metadata": {},
   "outputs": [
    {
     "data": {
      "image/png": "[encoded data removed]",
      "text/plain": [
       "<Figure size 576x576 with 4 Axes>"
      ]
     },
     "metadata": {
      "needs_background": "light"
     },
     "output_type": "display_data"
    }
   ],
   "source": [
    "plt.figure(figsize=(8,8))\n",
    "for i, p in enumerate(models):\n",
    "    plt.subplot(2,2,i+1)\n",
    "    plt.imshow(nx.to_numpy_matrix(graph, nodelist=# Your code here ))\n",
    "    plt.title(labels[i])\n",
    "    plt.axis('off')\n",
    "plt.show()    "
   ]
  },
  {
   "cell_type": "markdown",
   "metadata": {},
   "source": [
    "### Exercise 1.e"
   ]
  },
  {
   "cell_type": "markdown",
   "metadata": {},
   "source": [
    "* Plot the affinity matrices of two partition at your choice."
   ]
  },
  {
   "cell_type": "code",
   "execution_count": 28,
   "metadata": {},
   "outputs": [
    {
     "data": {
      "image/png": "[encoded data removed]",
      "text/plain": [
       "<Figure size 720x432 with 4 Axes>"
      ]
     },
     "metadata": {
      "needs_background": "light"
     },
     "output_type": "display_data"
    }
   ],
   "source": [
    "fig, (ax1, ax2) = plt.subplots(1, 2, figsize=(10,6))\n",
    "im1 = ax1.imshow(# Your code here )\n",
    "im2 = ax2.imshow(# Your code here )\n",
    "fig.colorbar(im1, ax=ax1)\n",
    "fig.colorbar(im2, ax=ax2)\n",
    "plt.show()"
   ]
  },
  {
   "cell_type": "markdown",
   "metadata": {},
   "source": [
    "# Exercise 2"
   ]
  },
  {
   "cell_type": "markdown",
   "metadata": {},
   "source": [
    "### Degree-corrected SBM\n",
    "\n",
    "As you could notice, the best partition found by the algorithms favor a block division correlated with degree.   The solution to this problem is to incorporate explicitly degree heterogeneity into the model. \n",
    "\n",
    "This implies introducing new hidden variables $\\theta_{i}\\in \\mathbb{R}\\geq 0$ controlling the expected degree of node $i$.\n",
    "\n",
    "\\begin{eqnarray}\n",
    "P(\\mathbf{A}| \\theta)&=& \\prod_{i<j} \\text{Pois} \\,(A_{ij};\\theta_{i}\\theta_{j}\\,C_{q_i q_j} ) \\\\\n",
    "&=& \\prod_{i<j} \\frac{e^{-\\theta_{i}\\theta_{j}\\,C_{q_iq_j}}\\, (\\theta_{i}\\theta_{j}\\,C_{q_iq_j})^{A_{ij}}}{A_{ij}!} \\quad.\n",
    "\\end{eqnarray}"
   ]
  },
  {
   "cell_type": "code",
   "execution_count": null,
   "metadata": {},
   "outputs": [],
   "source": [
    "degree_corrected_objective_function = # Your code here"
   ]
  },
  {
   "cell_type": "markdown",
   "metadata": {},
   "source": [
    "### Exercise 2.b"
   ]
  },
  {
   "cell_type": "markdown",
   "metadata": {},
   "source": [
    "* Run the three previous inference methods, but this time using the degree-corrected likelihood as objective function."
   ]
  },
  {
   "cell_type": "markdown",
   "metadata": {},
   "source": [
    "### **Inference 1**: `KarrerInference`"
   ]
  },
  {
   "cell_type": "code",
   "execution_count": null,
   "metadata": {},
   "outputs": [],
   "source": [
    "N_real=10\n",
    "best_objective=-1000000\n",
    "best_partition_standard_DC=None\n",
    "for r in range(N_real):\n",
    "    # Your code here "
   ]
  },
  {
   "cell_type": "markdown",
   "metadata": {},
   "source": [
    "### **Inference 1b**: `KarrerInference` with no negative moves allowed."
   ]
  },
  {
   "cell_type": "code",
   "execution_count": null,
   "metadata": {},
   "outputs": [],
   "source": [
    "N_real=10\n",
    "best_objective=-1000000\n",
    "best_partition_standard_nn_DC=None\n",
    "for r in range(N_real):\n",
    "    # Your code here "
   ]
  },
  {
   "cell_type": "markdown",
   "metadata": {},
   "source": [
    "### **Inference 2**: `MetropolisHastingInference` "
   ]
  },
  {
   "cell_type": "code",
   "execution_count": null,
   "metadata": {},
   "outputs": [],
   "source": [
    "N_real=10\n",
    "best_objective=-1000000\n",
    "best_partition_standard_MH_DC=None\n",
    "for r in range(N_real):\n",
    "    # Your code here "
   ]
  },
  {
   "cell_type": "markdown",
   "metadata": {},
   "source": [
    "### **Inference 3**: `PeixotoInference` "
   ]
  },
  {
   "cell_type": "code",
   "execution_count": null,
   "metadata": {},
   "outputs": [],
   "source": [
    "N_real=10\n",
    "best_objective=-1000000\n",
    "best_partition_standard_Peixoto_DC=None\n",
    "for r in range(N_real):\n",
    "    # Your code here "
   ]
  },
  {
   "cell_type": "markdown",
   "metadata": {},
   "source": [
    "#### Plots the results"
   ]
  },
  {
   "cell_type": "code",
   "execution_count": null,
   "metadata": {},
   "outputs": [],
   "source": [
    "models_DC = [best_partition_standard_DC, best_partition_standard_nn_DC, best_partition_standard_MH_DC, best_partition_standard_Peixoto_DC]\n",
    "plt.figure(figsize=(16,10))\n",
    "for i, p in enumerate(models_DC):\n",
    "    # Your code here \n",
    "plt.show()"
   ]
  },
  {
   "cell_type": "markdown",
   "metadata": {},
   "source": [
    "#### Plots the adjacency matrix ordered by blocks."
   ]
  },
  {
   "cell_type": "code",
   "execution_count": null,
   "metadata": {},
   "outputs": [],
   "source": [
    "plt.figure(figsize=(8,8))\n",
    "for i, p in enumerate(models_DC):\n",
    "    # Your code here \n",
    "plt.show()"
   ]
  },
  {
   "cell_type": "markdown",
   "metadata": {},
   "source": [
    "#### Plots the affinity matrices of two partition at your choice."
   ]
  },
  {
   "cell_type": "code",
   "execution_count": null,
   "metadata": {},
   "outputs": [],
   "source": [
    "# Your code here "
   ]
  }
 ],
 "metadata": {
  "kernelspec": {
   "display_name": "Python 3 (ipykernel)",
   "language": "python",
   "name": "python3"
  },
  "language_info": {
   "codemirror_mode": {
    "name": "ipython",
    "version": 3
   },
   "file_extension": ".py",
   "mimetype": "text/x-python",
   "name": "python",
   "nbconvert_exporter": "python",
   "pygments_lexer": "ipython3",
   "version": "3.8.12"
  }
 },
 "nbformat": 4,
 "nbformat_minor": 1
}
