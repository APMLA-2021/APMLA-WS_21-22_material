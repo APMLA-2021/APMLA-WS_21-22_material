{
 "cells": [
  {
   "cell_type": "code",
   "execution_count": null,
   "metadata": {},
   "outputs": [],
   "source": [
    "import networkx as nx\n",
    "import numpy as np\n",
    "import matplotlib.pyplot as plt\n",
    "%matplotlib notebook"
   ]
  },
  {
   "cell_type": "code",
   "execution_count": null,
   "metadata": {},
   "outputs": [],
   "source": [
    "%matplotlib inline"
   ]
  },
  {
   "cell_type": "code",
   "execution_count": null,
   "metadata": {},
   "outputs": [],
   "source": [
    "sizes = [50, 50, 50]\n",
    "\n",
    "# assortative\n",
    "probs = [[0.25, 0.02, 0.02],\n",
    "        [0.02, 0.25, 0.02],\n",
    "        [0.02, 0.02, 0.25]]\n",
    "\n",
    "# probs = [[0.25, 0.05, 0.02],\n",
    "#         [0.05, 0.35, 0.07],\n",
    "#         [0.02, 0.07, 0.40]]\n",
    "\n",
    "# disassortative\n",
    "# probs = [[0.01, 0.1, 0.1],[0.1, 0.01, 0.1],[0.1, 0.1, 0.01]]\n",
    "# probs = [[0.01, 0.1, 0.2],\n",
    "#          [0.1, 0.01, 0.4],\n",
    "#          [0.2, 0.4, 0.01]]\n",
    "\n",
    "G = nx.stochastic_block_model(sizes, probs, seed=10)\n",
    "print(G.number_of_nodes(),G.number_of_edges())"
   ]
  },
  {
   "cell_type": "code",
   "execution_count": null,
   "metadata": {},
   "outputs": [],
   "source": [
    "pos=nx.spring_layout(G, iterations=200)\n",
    "\n",
    "colors={0:'b',1:'r',2:'g',4:'black',5:'magenta'}\n",
    "node_colors=[]\n",
    "c=0\n",
    "for s in sizes:\n",
    "    node_colors.extend([colors[c] for i in range(s)])\n",
    "    c+=1\n",
    "    \n",
    "nx.draw_networkx_nodes(G,pos=pos,node_size=100,node_color=node_colors)\n",
    "nx.draw_networkx_edges(G,pos=pos,width=0.1)\n",
    "\n",
    "plt.axis('off')\n",
    "plt.show()"
   ]
  },
  {
   "cell_type": "code",
   "execution_count": null,
   "metadata": {},
   "outputs": [],
   "source": [
    "B = nx.to_numpy_matrix(G)\n",
    "plt.matshow(B)\n",
    "#plt.colorbar()\n"
   ]
  },
  {
   "cell_type": "markdown",
   "metadata": {
    "collapsed": true
   },
   "source": [
    "### Generative model"
   ]
  },
  {
   "cell_type": "code",
   "execution_count": null,
   "metadata": {},
   "outputs": [],
   "source": [
    "K = 3\n",
    "N = 100\n",
    "gamma = np.array([0.5,0.2,0.3]) # prior on the group membership\n"
   ]
  },
  {
   "cell_type": "markdown",
   "metadata": {},
   "source": [
    "#### Generate group membership"
   ]
  },
  {
   "cell_type": "code",
   "execution_count": null,
   "metadata": {},
   "outputs": [],
   "source": [
    "q0 = np.random.multinomial(1, gamma, size=N) # one-hot vector\n",
    "q = np.argmax(q0,axis=1)\n",
    "q[:10]"
   ]
  },
  {
   "cell_type": "code",
   "execution_count": null,
   "metadata": {},
   "outputs": [],
   "source": [
    "# assortative\n",
    "C = [[0.25, 0.02, 0.02],\n",
    "        [0.02, 0.25, 0.02],\n",
    "        [0.02, 0.02, 0.25]]\n",
    "\n",
    "# probs = [[0.25, 0.05, 0.02],\n",
    "#         [0.05, 0.35, 0.07],\n",
    "#         [0.02, 0.07, 0.40]]\n",
    "\n",
    "# disassortative\n",
    "# C = [[0.01, 0.1, 0.1],[0.1, 0.01, 0.1],[0.1, 0.1, 0.01]]\n",
    "# probs = [[0.01, 0.1, 0.2],\n",
    "#          [0.1, 0.01, 0.4],\n",
    "#          [0.2, 0.4, 0.01]]"
   ]
  },
  {
   "cell_type": "markdown",
   "metadata": {},
   "source": [
    "#### Evaluate parameter of the Bernoulli"
   ]
  },
  {
   "cell_type": "code",
   "execution_count": null,
   "metadata": {},
   "outputs": [],
   "source": [
    "M = (q0.dot(C)).dot(q0.T)"
   ]
  },
  {
   "cell_type": "markdown",
   "metadata": {},
   "source": [
    "#### Sample network adjacency matrix"
   ]
  },
  {
   "cell_type": "code",
   "execution_count": null,
   "metadata": {},
   "outputs": [],
   "source": [
    "A = np.random.binomial(1,M)"
   ]
  },
  {
   "cell_type": "code",
   "execution_count": null,
   "metadata": {},
   "outputs": [],
   "source": [
    "plt.figure()\n",
    "plt.matshow(A)"
   ]
  },
  {
   "cell_type": "markdown",
   "metadata": {},
   "source": [
    "#### Sort by group"
   ]
  },
  {
   "cell_type": "code",
   "execution_count": null,
   "metadata": {},
   "outputs": [],
   "source": [
    "nodelist = list(np.where(q == 0)[0])\n",
    "for k in range(1,K):\n",
    "    nodelist.extend(list(np.where(q == k)[0]))"
   ]
  },
  {
   "cell_type": "code",
   "execution_count": null,
   "metadata": {},
   "outputs": [],
   "source": [
    "plt.figure()\n",
    "plt.matshow(A[nodelist][:,nodelist])"
   ]
  },
  {
   "cell_type": "code",
   "execution_count": null,
   "metadata": {},
   "outputs": [],
   "source": []
  }
 ],
 "metadata": {
  "kernelspec": {
   "display_name": "Python 3",
   "language": "python",
   "name": "python3"
  },
  "language_info": {
   "codemirror_mode": {
    "name": "ipython",
    "version": 3
   },
   "file_extension": ".py",
   "mimetype": "text/x-python",
   "name": "python",
   "nbconvert_exporter": "python",
   "pygments_lexer": "ipython3",
   "version": "3.8.7"
  }
 },
 "nbformat": 4,
 "nbformat_minor": 2
}
