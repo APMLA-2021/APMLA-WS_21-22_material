{
 "cells": [
  {
   "cell_type": "markdown",
   "metadata": {},
   "source": [
    "# Matrix Factorization for Recommendation Systems"
   ]
  },
  {
   "cell_type": "code",
   "execution_count": null,
   "metadata": {},
   "outputs": [],
   "source": [
    "# import libraries\n",
    "import pandas as pd\n",
    "import os\n",
    "import numpy as np\n",
    "import matplotlib.pyplot as plt\n",
    "from matplotlib.colors import LinearSegmentedColormap\n",
    "from matplotlib.colors import ListedColormap\n",
    "\n",
    "from collections import defaultdict #data collector\n",
    "\n",
    "#Surprise: https://surprise.readthedocs.io/en/stable/\n",
    "import surprise\n",
    "\n",
    "from surprise.reader import Reader\n",
    "from surprise import Dataset, accuracy\n",
    "from surprise.model_selection import GridSearchCV,PredefinedKFold\n",
    "\n",
    "##Matrix Factorization Algorithms\n",
    "from surprise import SVD\n",
    "from surprise import NMF"
   ]
  },
  {
   "cell_type": "markdown",
   "metadata": {},
   "source": [
    "## Import data\n",
    "source: https://grouplens.org/datasets/movielens/100k/"
   ]
  },
  {
   "cell_type": "code",
   "execution_count": null,
   "metadata": {
    "scrolled": true
   },
   "outputs": [],
   "source": [
    "# The full u data set, 100000 ratings by 943 users on 1682 items.\n",
    "ratings = # YOUR CODE HERE\n",
    "ratings.head()"
   ]
  },
  {
   "cell_type": "code",
   "execution_count": null,
   "metadata": {},
   "outputs": [],
   "source": [
    "# Information about the items (movies)\n",
    "movie_columns  = ['movie id', 'movie title', 'release date', 'video release date', 'IMDb URL',\n",
    "                  'unknown','Action','Adventure', 'Animation',\"Children's\", 'Comedy', 'Crime',\n",
    "                  'Documentary', 'Drama', 'Fantasy', 'Film-Noir', 'Horror', 'Musical', 'Mystery',\n",
    "                  'Romance', 'Sci-Fi', 'Thriller', 'War', 'Western']\n",
    "movies = # YOUR CODE HERE\n",
    "movies.head()"
   ]
  },
  {
   "cell_type": "markdown",
   "metadata": {},
   "source": [
    "## Explore the datasets"
   ]
  },
  {
   "cell_type": "code",
   "execution_count": null,
   "metadata": {},
   "outputs": [],
   "source": [
    "# YOUR CODE HERE"
   ]
  },
  {
   "cell_type": "markdown",
   "metadata": {},
   "source": [
    "#### Plots"
   ]
  },
  {
   "cell_type": "code",
   "execution_count": null,
   "metadata": {},
   "outputs": [],
   "source": [
    "# Histogram of ratings\n",
    "# YOUR CODE HERE"
   ]
  },
  {
   "cell_type": "code",
   "execution_count": null,
   "metadata": {},
   "outputs": [],
   "source": [
    "# Histogram of average ratings by user\n",
    "# YOUR CODE HERE"
   ]
  },
  {
   "cell_type": "code",
   "execution_count": null,
   "metadata": {},
   "outputs": [],
   "source": [
    "# Histogram of number of ratings by user\n",
    "# YOUR CODE HERE"
   ]
  },
  {
   "cell_type": "markdown",
   "metadata": {},
   "source": [
    "#### Create R matrix: user x items"
   ]
  },
  {
   "cell_type": "code",
   "execution_count": null,
   "metadata": {},
   "outputs": [],
   "source": [
    "rating_matrix = # YOUR CODE HERE"
   ]
  },
  {
   "cell_type": "code",
   "execution_count": null,
   "metadata": {},
   "outputs": [],
   "source": [
    "# remove nan values\n",
    "nan_mask = np.isnan(rating_matrix)\n",
    "rating_matrix[nan_mask] = 0\n",
    "rating_matrix"
   ]
  },
  {
   "cell_type": "code",
   "execution_count": null,
   "metadata": {},
   "outputs": [],
   "source": [
    "# snap of the rating matrix\n",
    "maxA = int(np.max(rating_matrix))\n",
    "cmap1 = ListedColormap(['white', 'paleturquoise','turquoise',  'mediumturquoise','darkturquoise', 'royalblue'][:maxA+1])\n",
    "\n",
    "plt.figure(figsize=(12,6))\n",
    "plt.imshow(rating_matrix[:50,:100],cmap=cmap1)\n",
    "cb = plt.colorbar(fraction=0.046, ticks=list(np.arange(maxA+1)))\n",
    "cb.ax.tick_params(labelsize=20)\n",
    "\n",
    "plt.xticks(fontsize=20)\n",
    "plt.yticks(fontsize=20)\n",
    "\n",
    "ax = plt.gca()\n",
    "ax.xaxis.set_ticks([])\n",
    "ax.yaxis.set_ticks([])\n",
    "plt.tight_layout()"
   ]
  },
  {
   "cell_type": "markdown",
   "metadata": {},
   "source": [
    "## Model with surprise package"
   ]
  },
  {
   "cell_type": "code",
   "execution_count": null,
   "metadata": {},
   "outputs": [],
   "source": [
    "# path to dataset folder\n",
    "files_dir = os.path.expanduser('./ml-100k/')\n",
    "\n",
    "# this time, we'll use the built-in reader.\n",
    "reader = Reader('ml-100k')"
   ]
  },
  {
   "cell_type": "markdown",
   "metadata": {},
   "source": [
    "### GridsearchCV to choose the best number of factors"
   ]
  },
  {
   "cell_type": "code",
   "execution_count": null,
   "metadata": {},
   "outputs": [],
   "source": [
    "data_full = # YOUR CODE HERE\n",
    "data_full"
   ]
  },
  {
   "cell_type": "code",
   "execution_count": null,
   "metadata": {},
   "outputs": [],
   "source": [
    "param_grid = {'n_factors': [5,7,9,11,14,16,18,20]}\n",
    "gs = GridSearchCV(# YOUR CODE HERE)\n",
    "gs.fit(data_full)\n",
    "\n",
    "# best RMSE score\n",
    "# YOUR CODE HERE\n",
    "\n",
    "# combination of parameters that gave the best RMSE score\n",
    "# YOUR CODE HERE"
   ]
  },
  {
   "cell_type": "markdown",
   "metadata": {},
   "source": [
    "### Cross Validation to choose the best model among SVD, SVD biased, NMF, and NMF biased"
   ]
  },
  {
   "cell_type": "code",
   "execution_count": null,
   "metadata": {},
   "outputs": [],
   "source": [
    "# Let's fix \n",
    "K = 16\n",
    "maxit = 20"
   ]
  },
  {
   "cell_type": "code",
   "execution_count": null,
   "metadata": {},
   "outputs": [],
   "source": [
    "# folds_files is a list of tuples containing file paths:\n",
    "# [(u1.base, u1.test), (u2.base, u2.test), ... (u5.base, u5.test)]\n",
    "train_file = files_dir + 'u%d.base'\n",
    "test_file = files_dir + 'u%d.test'\n",
    "folds_files = [(train_file % i, test_file % i) for i in (1, 2, 3, 4, 5)]\n",
    "\n",
    "data = Dataset.load_from_folds(# YOUR CODE HERE)\n",
    "pkf = PredefinedKFold()"
   ]
  },
  {
   "cell_type": "code",
   "execution_count": null,
   "metadata": {},
   "outputs": [],
   "source": [
    "RMSE = {}\n",
    "MAE = {}"
   ]
  },
  {
   "cell_type": "markdown",
   "metadata": {},
   "source": [
    "##### Using `SVD`"
   ]
  },
  {
   "cell_type": "code",
   "execution_count": null,
   "metadata": {},
   "outputs": [],
   "source": [
    "algo = # YOUR CODE HERE\n",
    "RMSE['SVD'] = []\n",
    "MAE['SVD'] = []\n",
    "# YOUR CODE HERE"
   ]
  },
  {
   "cell_type": "markdown",
   "metadata": {},
   "source": [
    "##### Using `SVD biased`"
   ]
  },
  {
   "cell_type": "code",
   "execution_count": null,
   "metadata": {},
   "outputs": [],
   "source": [
    "algo = # YOUR CODE HERE\n",
    "RMSE['SVDbiased'] = []\n",
    "MAE['SVDbiased'] = []\n",
    "# YOUR CODE HERE"
   ]
  },
  {
   "cell_type": "markdown",
   "metadata": {},
   "source": [
    "##### Using `NMF biased`"
   ]
  },
  {
   "cell_type": "code",
   "execution_count": null,
   "metadata": {},
   "outputs": [],
   "source": [
    "algo = # YOUR CODE HERE\n",
    "RMSE['NMF'] = []\n",
    "MAE['NMF'] = []\n",
    "# YOUR CODE HERE"
   ]
  },
  {
   "cell_type": "markdown",
   "metadata": {},
   "source": [
    "##### Using `NMF biased`"
   ]
  },
  {
   "cell_type": "code",
   "execution_count": null,
   "metadata": {},
   "outputs": [],
   "source": [
    "algo = # YOUR CODE HERE\n",
    "RMSE['NMFbiased'] = []\n",
    "MAE['NMFbiased'] = []\n",
    "# YOUR CODE HERE"
   ]
  },
  {
   "cell_type": "code",
   "execution_count": null,
   "metadata": {},
   "outputs": [],
   "source": [
    "fig, ax = plt.subplots(1,2,figsize=(16,4))\n",
    "\n",
    "for i,k in enumerate(RMSE.keys()):\n",
    "    ax[0].scatter(i,np.mean(RMSE[k]),label=k)\n",
    "    ax[0].errorbar(i,np.mean(RMSE[k]),yerr= np.std(RMSE[k]))\n",
    "    ax[1].scatter(i,np.mean(MAE[k]),label=k)\n",
    "    ax[1].errorbar(i,np.mean(MAE[k]),yerr= np.std(MAE[k]))\n",
    "ax[0].set_xticks([0.0, 1.0, 2., 3.0])\n",
    "ax[0].set_xticklabels(RMSE.keys(), fontsize=15)\n",
    "ax[0].set_ylabel('RMSE', fontsize=15)\n",
    "ax[1].set_xticks([0.0, 1.0, 2., 3.0])\n",
    "ax[1].set_xticklabels(RMSE.keys(), fontsize=15)\n",
    "ax[1].set_ylabel('MAE', fontsize=15)\n",
    "\n",
    "plt.show()"
   ]
  },
  {
   "cell_type": "markdown",
   "metadata": {},
   "source": [
    "### Make predictions and recommendations"
   ]
  },
  {
   "cell_type": "code",
   "execution_count": null,
   "metadata": {},
   "outputs": [],
   "source": [
    "trainset = data_full.build_full_trainset()\n",
    "best_algo = # YOUR CODE HERE\n",
    "best_algo.fit(trainset)\n",
    "\n",
    "testset = trainset.build_anti_testset()\n",
    "predictions = best_algo.test(testset)"
   ]
  },
  {
   "cell_type": "code",
   "execution_count": null,
   "metadata": {},
   "outputs": [],
   "source": [
    "predictions[:2]"
   ]
  },
  {
   "cell_type": "code",
   "execution_count": null,
   "metadata": {},
   "outputs": [],
   "source": [
    "def get_top_n(predictions, n=10):\n",
    "    \"\"\"Return the top-N recommendation for each user from a set of predictions.\n",
    "\n",
    "    Args:\n",
    "        predictions(list of Prediction objects): The list of predictions, as\n",
    "            returned by the test method of an algorithm.\n",
    "        n(int): The number of recommendation to output for each user. Default\n",
    "            is 10.\n",
    "\n",
    "    Returns:\n",
    "    A dict where keys are user (raw) ids and values are lists of tuples:\n",
    "        [(raw item id, rating estimation), ...] of size n.\n",
    "    \"\"\"\n",
    "\n",
    "    # YOUR CODE HERE\n",
    "\n",
    "    return top_n\n"
   ]
  },
  {
   "cell_type": "code",
   "execution_count": null,
   "metadata": {},
   "outputs": [],
   "source": [
    "top_n = get_top_n(predictions, n=5)\n",
    "\n",
    "# Print the recommended items for each user\n",
    "for uid, user_ratings in top_n.items():\n",
    "    print(uid, [iid for (iid, _) in user_ratings])"
   ]
  }
 ],
 "metadata": {
  "kernelspec": {
   "display_name": "Python 3 (ipykernel)",
   "language": "python",
   "name": "python3"
  },
  "language_info": {
   "codemirror_mode": {
    "name": "ipython",
    "version": 3
   },
   "file_extension": ".py",
   "mimetype": "text/x-python",
   "name": "python",
   "nbconvert_exporter": "python",
   "pygments_lexer": "ipython3",
   "version": "3.8.12"
  }
 },
 "nbformat": 4,
 "nbformat_minor": 4
}
