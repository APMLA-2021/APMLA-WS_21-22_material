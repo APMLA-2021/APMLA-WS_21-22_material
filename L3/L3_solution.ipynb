{
 "cells": [
  {
   "cell_type": "markdown",
   "metadata": {},
   "source": [
    "## Tutorial 3: Bayesian Mixture Models and Gibbs sampling"
   ]
  },
  {
   "cell_type": "markdown",
   "metadata": {},
   "source": [
    "### Exercise 1: Categorical Mixture Model (CMM)"
   ]
  },
  {
   "cell_type": "code",
   "execution_count": 1,
   "metadata": {
    "pycharm": {
     "is_executing": false
    }
   },
   "outputs": [],
   "source": [
    "# Import libraries\n",
    "import numpy as np\n",
    "import pandas as pd\n",
    "from ast import literal_eval\n",
    "import matplotlib.pyplot as plt\n",
    "import scipy.special\n",
    "\n",
    "import math\n",
    "\n",
    "import gensim\n",
    "from wordcloud import WordCloud, STOPWORDS"
   ]
  },
  {
   "cell_type": "markdown",
   "metadata": {},
   "source": [
    "##### Load and pre-process the data"
   ]
  },
  {
   "cell_type": "code",
   "execution_count": 2,
   "metadata": {},
   "outputs": [],
   "source": [
    "df = pd.read_csv('tweets_cleaned.csv')\n",
    "df.drop_duplicates(subset=\"tweet\", inplace=True)  # drop duplicates tweets\n",
    "df['tokens'] = df['tokens'].apply(literal_eval)  # transform the string into a list of tokens\n",
    "X_tokens = list(df['tokens'].values)"
   ]
  },
  {
   "cell_type": "code",
   "execution_count": 3,
   "metadata": {
    "nbgrader": {
     "grade": false,
     "grade_id": "cell-778824ee1dc6c0d1",
     "locked": true,
     "schema_version": 3,
     "solution": false,
     "task": false
    }
   },
   "outputs": [
    {
     "name": "stdout",
     "output_type": "stream",
     "text": [
      "Columns: tweet_id | timestamp | user_id | tweet | tweets_clean | tokens\n",
      "\n",
      "Tweet:\n",
      "OSINT people - please retweet, if possible. My friend is looking for women involved in OSINT. https://twitter.com/manisha_bot/status/1181594280336531457 …\n",
      "Tweet cleaned:\n",
      "osint people   please retweet  if possible  my friend is looking for women involved in osint\n",
      "Tweet tokens:\n",
      "['osint', 'peopl', 'retweet', 'possibl', 'friend', 'look', 'woman', 'involv', 'osint']\n"
     ]
    }
   ],
   "source": [
    "print('Columns: {}\\n'.format(' | '.join(df.columns.values)))\n",
    "\n",
    "print('Tweet:\\n{}'.format(df.loc[1, 'tweet']))\n",
    "print('Tweet cleaned:\\n{}'.format(df.loc[1, 'tweets_clean']))\n",
    "print('Tweet tokens:\\n{}'.format(X_tokens[1]))"
   ]
  },
  {
   "cell_type": "markdown",
   "metadata": {},
   "source": [
    "##### Create the dictionary"
   ]
  },
  {
   "cell_type": "code",
   "execution_count": 4,
   "metadata": {},
   "outputs": [],
   "source": [
    "I = 120  # hyperparameter: number of different words to keep\n",
    "K = 5  # hyperparameter: number of topics"
   ]
  },
  {
   "cell_type": "code",
   "execution_count": 5,
   "metadata": {
    "pycharm": {
     "is_executing": false,
     "name": "#%%\n"
    }
   },
   "outputs": [
    {
     "name": "stdout",
     "output_type": "stream",
     "text": [
      "Dictionary(12243 unique tokens: ['collin', 'cum', 'domin', 'phil', 'room']...)\n",
      "Dictionary(120 unique tokens: ['look', 'peopl', 'woman', 'love', 'work']...)\n"
     ]
    }
   ],
   "source": [
    "dictionary = gensim.corpora.Dictionary(X_tokens)\n",
    "print(dictionary)\n",
    "dictionary.filter_extremes(no_below=15, no_above=0.5, keep_n=I)\n",
    "print(dictionary)"
   ]
  },
  {
   "cell_type": "markdown",
   "metadata": {},
   "source": [
    "##### Create Bag of Words (BoW)"
   ]
  },
  {
   "cell_type": "code",
   "execution_count": 6,
   "metadata": {
    "pycharm": {
     "is_executing": false,
     "name": "#%%\n"
    }
   },
   "outputs": [],
   "source": [
    "X_bow = list()\n",
    "keep_tweet = list()\n",
    "for tweet in X_tokens:\n",
    "    tweet_bow = dictionary.doc2bow(tweet)\n",
    "    if len(tweet_bow) > 1:\n",
    "        X_bow.append(tweet_bow)\n",
    "        keep_tweet.append(True)\n",
    "    else:\n",
    "        keep_tweet.append(False)\n",
    "\n",
    "df_data = df[keep_tweet]\n",
    "N = len(df_data)"
   ]
  },
  {
   "cell_type": "markdown",
   "metadata": {},
   "source": [
    "##### Create the matrix"
   ]
  },
  {
   "cell_type": "code",
   "execution_count": 7,
   "metadata": {
    "pycharm": {
     "is_executing": false,
     "name": "#%%\n"
    }
   },
   "outputs": [
    {
     "data": {
      "text/plain": [
       "(5568, 120)"
      ]
     },
     "execution_count": 7,
     "metadata": {},
     "output_type": "execute_result"
    }
   ],
   "source": [
    "X_matrix = np.zeros([N, I])\n",
    "for i, doc_bow in enumerate(X_bow):\n",
    "    word_list = list()\n",
    "    for word in doc_bow:\n",
    "        X_matrix[i, word[0]] = word[1]\n",
    "X_matrix.shape"
   ]
  },
  {
   "cell_type": "markdown",
   "metadata": {},
   "source": [
    "#### Useful functions"
   ]
  },
  {
   "cell_type": "code",
   "execution_count": 8,
   "metadata": {
    "nbgrader": {
     "grade": false,
     "grade_id": "cell-291dcf03c236ebe6",
     "locked": true,
     "schema_version": 3,
     "solution": false,
     "task": false
    }
   },
   "outputs": [],
   "source": [
    "# log sum exponential trick\n",
    "def compute_lset(ns):\n",
    "    return scipy.special.logsumexp(ns)\n",
    "\n",
    "# initialize parameters\n",
    "def initialize_parameters(N, K, alpha, gamma):\n",
    "    pi_vector = np.random.dirichlet(alpha, size=1).flatten()  # [K, ]\n",
    "    Z_matrix = np.random.multinomial(n=1, pvals=pi_vector, size=N)  # One hot encoding NxK\n",
    "    theta_matrix = np.random.dirichlet(gamma, size=K)  # [K, I]\n",
    "    return pi_vector, theta_matrix, Z_matrix"
   ]
  },
  {
   "cell_type": "markdown",
   "metadata": {},
   "source": [
    "#### 1.4) Implement the log-likelihood of the model"
   ]
  },
  {
   "cell_type": "code",
   "execution_count": 9,
   "metadata": {
    "nbgrader": {
     "grade": false,
     "grade_id": "cell-2a3b9f88a223383c",
     "locked": false,
     "schema_version": 3,
     "solution": true,
     "task": false
    }
   },
   "outputs": [],
   "source": [
    "def log_likelihood_X(X, Z, theta_matrix):\n",
    "    log_lik = np.sum(Z * (X_matrix @ np.log(theta_matrix).T))\n",
    "    return log_lik"
   ]
  },
  {
   "cell_type": "markdown",
   "metadata": {},
   "source": [
    "#### 1.5) Implement Algorithm 1, i.e. the posterior distributions obtained in point 1) and fill in the function *fit_no_collapsed_Gibbs*. Then, train the algorithm for 80 iterations with a burn in period τburn−in = 20 iterations. "
   ]
  },
  {
   "cell_type": "code",
   "execution_count": 10,
   "metadata": {
    "nbgrader": {
     "grade": false,
     "grade_id": "cell-2841f752cb30c4f4",
     "locked": false,
     "schema_version": 3,
     "solution": true,
     "task": false
    }
   },
   "outputs": [],
   "source": [
    "def pi_Z(Z, alpha):\n",
    "    m_k = np.sum(Z, axis=0)\n",
    "    alpha_p = alpha + m_k\n",
    "    pi_sample = np.random.dirichlet(alpha_p, size=1).flatten()\n",
    "    return pi_sample\n",
    "\n",
    "def thetak_XZ(X, Z, k, gamma):\n",
    "    def gammak_p(z_matrix, x_matrix, k, gamma):\n",
    "        z_k = (z_matrix[:, [k]].T == 1).flatten()\n",
    "        c_k = np.sum(x_matrix[z_k, :], axis=0)\n",
    "        gamma_p = gamma + c_k\n",
    "        return gamma_p\n",
    "    gamma_p = gammak_p(Z, X, k, gamma)\n",
    "    thetak_sample = np.random.dirichlet(gamma_p, size=1).flatten()\n",
    "    return thetak_sample\n",
    "\n",
    "def Z_pi_theta_xn(X, pi_vector, theta_matrix):\n",
    "    N, I = X.shape\n",
    "    K = theta_matrix.shape[0]\n",
    "\n",
    "    log_theta_matrix = np.log(theta_matrix)\n",
    "    log_pi_vector = np.log(pi_vector)\n",
    "\n",
    "    last_term = np.zeros([N, 1])\n",
    "    last_term2 = X @ log_theta_matrix.T\n",
    "    ns = last_term2 + np.tile(log_pi_vector, [N, 1])  # [N, K]\n",
    "    for i in range(N):\n",
    "        last_term[i] = compute_lset(ns[i, :])\n",
    "\n",
    "    last_term = np.tile(last_term, [1, K])\n",
    "    log_r_matrix = np.tile(log_pi_vector, [N, 1]) + last_term2 - last_term\n",
    "    r_matrix = np.exp(log_r_matrix)\n",
    "\n",
    "    Z_probs = np.clip(r_matrix, 1e-250, None)\n",
    "    def f(probs):\n",
    "        K = len(probs)\n",
    "        a = np.zeros(K, dtype=np.int64)\n",
    "        q = np.random.choice(K, size=1, replace=True, p=probs)\n",
    "        a[q] = 1\n",
    "        return a\n",
    "    Z_sample = np.apply_along_axis(f, 1, Z_probs)\n",
    "    return  Z_probs, Z_sample"
   ]
  },
  {
   "cell_type": "code",
   "execution_count": 11,
   "metadata": {
    "nbgrader": {
     "grade": false,
     "grade_id": "cell-b6548bf4d7e1372c",
     "locked": false,
     "schema_version": 3,
     "solution": true,
     "task": false
    }
   },
   "outputs": [],
   "source": [
    "# Show the evolution of the log-likelihood per iteration.\n",
    "# Obtain the MAP estimate of the cluster assignments computed after τburn-in.\n",
    "\n",
    "def fit_no_collapsed_Gibbs(X, K, alpha, gamma, burn_in, n_iters):\n",
    "    N, I = X.shape\n",
    "    '''Initialize parameters'''\n",
    "    pi_vector, theta_matrix, Z_matrix = initialize_parameters(N, K, alpha, gamma)\n",
    "    z_map = np.zeros([N, K])\n",
    "\n",
    "    log_x_list = []\n",
    "    for it in range(n_iters):\n",
    "        '''Update parameters'''\n",
    "        pi_vector = pi_Z(Z_matrix, alpha)\n",
    "        for k in range(K):\n",
    "            theta_matrix[k, :] = thetak_XZ(X, Z_matrix, k, gamma)\n",
    "        Z_probs, Z_matrix  = Z_pi_theta_xn(X, pi_vector, theta_matrix)\n",
    "        '''Check log-likelihood'''\n",
    "        log_lik_it = log_likelihood_X(X, Z_matrix, theta_matrix)\n",
    "        log_x_list.append(log_lik_it)\n",
    "        \n",
    "        print('ITER: {} | log_lik: {}'.format(str(it), log_lik_it))\n",
    "        \n",
    "        if it >= burn_in: \n",
    "            z_map += Z_matrix\n",
    "            \n",
    "    Zk = np.argmax(z_map, axis=-1)\n",
    "    z_map = np.zeros([N, K])\n",
    "    for i in range(N):\n",
    "        z_map[i, Zk[i]] = 1.\n",
    "    \n",
    "    return pi_vector, theta_matrix, Z_matrix, z_map, log_x_list"
   ]
  },
  {
   "cell_type": "code",
   "execution_count": 12,
   "metadata": {
    "nbgrader": {
     "grade": false,
     "grade_id": "cell-69ab9b60a9c30d79",
     "locked": true,
     "schema_version": 3,
     "solution": false,
     "task": false
    },
    "scrolled": true
   },
   "outputs": [
    {
     "name": "stdout",
     "output_type": "stream",
     "text": [
      "ITER: 0 | log_lik: -102556.70707606588\n",
      "ITER: 1 | log_lik: -101445.8881058007\n",
      "ITER: 2 | log_lik: -99603.80674701346\n",
      "ITER: 3 | log_lik: -98438.38578173114\n",
      "ITER: 4 | log_lik: -97465.26552522031\n",
      "ITER: 5 | log_lik: -96852.38884761161\n",
      "ITER: 6 | log_lik: -96385.03897160769\n",
      "ITER: 7 | log_lik: -95992.65377075823\n",
      "ITER: 8 | log_lik: -95949.44446492166\n",
      "ITER: 9 | log_lik: -95777.06373472516\n",
      "ITER: 10 | log_lik: -95725.82411663365\n",
      "ITER: 11 | log_lik: -95766.7723380872\n",
      "ITER: 12 | log_lik: -95608.489342709\n",
      "ITER: 13 | log_lik: -95651.22110707137\n",
      "ITER: 14 | log_lik: -95603.81475217552\n",
      "ITER: 15 | log_lik: -95557.09853408704\n",
      "ITER: 16 | log_lik: -95405.4877890053\n",
      "ITER: 17 | log_lik: -95477.85448011935\n",
      "ITER: 18 | log_lik: -95391.24764089886\n",
      "ITER: 19 | log_lik: -95516.98664773346\n",
      "ITER: 20 | log_lik: -95425.567111299\n",
      "ITER: 21 | log_lik: -95378.60266203317\n",
      "ITER: 22 | log_lik: -95345.54597836846\n",
      "ITER: 23 | log_lik: -95290.03355411024\n",
      "ITER: 24 | log_lik: -95270.73769417797\n",
      "ITER: 25 | log_lik: -95138.23952785716\n",
      "ITER: 26 | log_lik: -95161.06539448955\n",
      "ITER: 27 | log_lik: -95061.76831293786\n",
      "ITER: 28 | log_lik: -95039.68835136939\n",
      "ITER: 29 | log_lik: -95189.41488941349\n",
      "ITER: 30 | log_lik: -95147.4422484778\n",
      "ITER: 31 | log_lik: -95163.34356373135\n",
      "ITER: 32 | log_lik: -95113.41582558247\n",
      "ITER: 33 | log_lik: -95255.23915524871\n",
      "ITER: 34 | log_lik: -95105.98324800744\n",
      "ITER: 35 | log_lik: -95100.53411487403\n",
      "ITER: 36 | log_lik: -95131.7402988466\n",
      "ITER: 37 | log_lik: -95016.27744277635\n",
      "ITER: 38 | log_lik: -95123.37019939214\n",
      "ITER: 39 | log_lik: -95062.89981950255\n",
      "ITER: 40 | log_lik: -95143.69984313112\n",
      "ITER: 41 | log_lik: -95240.41465251773\n",
      "ITER: 42 | log_lik: -95163.31435034737\n",
      "ITER: 43 | log_lik: -95201.72759471528\n",
      "ITER: 44 | log_lik: -95154.86966523212\n",
      "ITER: 45 | log_lik: -95086.89424492425\n",
      "ITER: 46 | log_lik: -95174.3214670074\n",
      "ITER: 47 | log_lik: -95059.13446335877\n",
      "ITER: 48 | log_lik: -95078.59444279163\n",
      "ITER: 49 | log_lik: -95037.50335824206\n",
      "ITER: 50 | log_lik: -95116.69958322347\n",
      "ITER: 51 | log_lik: -95071.64382299094\n",
      "ITER: 52 | log_lik: -95085.18911004353\n",
      "ITER: 53 | log_lik: -95045.13429030242\n",
      "ITER: 54 | log_lik: -95072.74815168789\n",
      "ITER: 55 | log_lik: -95023.60771971002\n",
      "ITER: 56 | log_lik: -95003.2109145091\n",
      "ITER: 57 | log_lik: -95070.67543468709\n",
      "ITER: 58 | log_lik: -95081.97762117066\n",
      "ITER: 59 | log_lik: -95118.21590093008\n",
      "ITER: 60 | log_lik: -95164.93820649723\n",
      "ITER: 61 | log_lik: -95133.16195426146\n",
      "ITER: 62 | log_lik: -95069.95267414328\n",
      "ITER: 63 | log_lik: -95096.14988838825\n",
      "ITER: 64 | log_lik: -95063.23365526705\n",
      "ITER: 65 | log_lik: -95080.37091240454\n",
      "ITER: 66 | log_lik: -95089.19692484185\n",
      "ITER: 67 | log_lik: -95002.88478728334\n",
      "ITER: 68 | log_lik: -94896.3328826181\n",
      "ITER: 69 | log_lik: -95001.74638892771\n",
      "ITER: 70 | log_lik: -95007.18996897846\n",
      "ITER: 71 | log_lik: -94968.62321617582\n",
      "ITER: 72 | log_lik: -95031.91162982561\n",
      "ITER: 73 | log_lik: -94949.14849213578\n",
      "ITER: 74 | log_lik: -95129.68705709455\n",
      "ITER: 75 | log_lik: -95074.38916844619\n",
      "ITER: 76 | log_lik: -95073.36258091591\n",
      "ITER: 77 | log_lik: -95156.46588472676\n",
      "ITER: 78 | log_lik: -95118.65614490375\n",
      "ITER: 79 | log_lik: -95085.98541871563\n",
      "CPU times: user 2min 14s, sys: 1.33 s, total: 2min 15s\n",
      "Wall time: 26.5 s\n"
     ]
    }
   ],
   "source": [
    "%%time\n",
    "np.random.seed(1234)\n",
    "\n",
    "alpha = 1*np.ones(K)\n",
    "gamma = np.ones(I)\n",
    "\n",
    "pi_vector, theta_matrix, Z_matrix, z_map, log_x_list = fit_no_collapsed_Gibbs(X_matrix, K, alpha, gamma, \n",
    "                                                                              burn_in=20, n_iters=80)"
   ]
  },
  {
   "cell_type": "code",
   "execution_count": 13,
   "metadata": {
    "nbgrader": {
     "grade": false,
     "grade_id": "cell-0bfbb0f86368410d",
     "locked": true,
     "schema_version": 3,
     "solution": false,
     "task": false
    },
    "scrolled": false
   },
   "outputs": [
    {
     "data": {
      "image/png": "[encoded data removed]",
      "text/plain": [
       "<Figure size 576x360 with 1 Axes>"
      ]
     },
     "metadata": {
      "needs_background": "light"
     },
     "output_type": "display_data"
    }
   ],
   "source": [
    "plt.figure(figsize=(8,5))\n",
    "plt.plot(log_x_list)\n",
    "plt.xlabel('Iterations', fontsize=14)\n",
    "plt.ylabel('$log \\, p(X|Z, \\\\theta)$', fontsize=14)\n",
    "plt.show()"
   ]
  },
  {
   "cell_type": "markdown",
   "metadata": {},
   "source": [
    "#### 1.6) Using your implementation of Algorithm 1, and the implementations of Algorithm 2 and 3 provided in the jupyter notebook, explain the differences in convergence speed of the algorithms in terms of number of iterations and time. What is the reason behind those differences?"
   ]
  },
  {
   "cell_type": "markdown",
   "metadata": {},
   "source": [
    "##### Algorithm 2"
   ]
  },
  {
   "cell_type": "code",
   "execution_count": 14,
   "metadata": {
    "nbgrader": {
     "grade": false,
     "grade_id": "cell-ef41f3b4c60343a4",
     "locked": true,
     "schema_version": 3,
     "solution": false,
     "task": false
    }
   },
   "outputs": [],
   "source": [
    "def Z_XZTheta(X, Z, theta_matrix, alpha):\n",
    "    N, I = X.shape\n",
    "    K = theta_matrix.shape[0]\n",
    "    z_probs = np.zeros([N, K])\n",
    "    z_matrix = np.zeros([N, K])\n",
    "    alpha_sum =  np.sum(alpha)\n",
    "    z_sum = np.sum(Z, axis=0)\n",
    "    lik_X =np.exp(X @ np.log(theta_matrix.T))\n",
    "    for n in range(N):\n",
    "        z_n =  Z[n, :]\n",
    "        z_sum_n = z_sum - z_n\n",
    "        zn_Z = (z_sum_n + alpha)/(N -1 + alpha_sum)\n",
    "        z_probs_n_unnormalized = zn_Z * lik_X[n,:]\n",
    "        z_probs_n = (z_probs_n_unnormalized / np.sum(z_probs_n_unnormalized)).flatten()\n",
    "\n",
    "        z_n = np.random.multinomial(n=1, pvals=z_probs_n, size=1).flatten()\n",
    "\n",
    "        z_probs[n, :] = z_probs_n\n",
    "        z_matrix[n, :] = z_n\n",
    "        z_sum = z_sum_n + z_n\n",
    "    return z_probs, z_matrix"
   ]
  },
  {
   "cell_type": "code",
   "execution_count": 15,
   "metadata": {},
   "outputs": [],
   "source": [
    "def fit_collapsed_pi(X, K, alpha, gamma, burn_in, n_iters):\n",
    "    N, I = X.shape\n",
    "    '''Initialize parameters'''\n",
    "    pi_vector, theta_matrix, z_vector =  initialize_parameters(N, K, alpha, gamma)\n",
    "    z_map = np.zeros([N, K])\n",
    "    log_x_list = []\n",
    "\n",
    "    for it in range(n_iters):\n",
    "        '''Update parameters'''\n",
    "        for k in range(K):\n",
    "            theta_matrix[k, :] = thetak_XZ(X, z_vector, k, gamma)\n",
    "        z_probs, z_vector = Z_XZTheta(X, z_vector, theta_matrix, alpha)\n",
    "        '''Check log-likelihood'''\n",
    "        log_lik_it = log_likelihood_X(X, z_vector, theta_matrix)\n",
    "        log_x_list.append(log_lik_it)\n",
    "        \n",
    "        print('ITER: {} | log_lik: {}'.format(str(it), log_lik_it))\n",
    "        if it > burn_in: z_map += z_vector\n",
    "    \n",
    "    Zk = np.argmax(z_map, axis=-1)\n",
    "    z_map = np.zeros([N, K])\n",
    "    for i in range(N):\n",
    "        z_map[i, Zk[i]] = 1.\n",
    "    \n",
    "    return pi_vector, theta_matrix, z_vector, z_map, log_x_list"
   ]
  },
  {
   "cell_type": "code",
   "execution_count": 16,
   "metadata": {
    "scrolled": true
   },
   "outputs": [
    {
     "name": "stdout",
     "output_type": "stream",
     "text": [
      "ITER: 0 | log_lik: -102559.13775768132\n",
      "ITER: 1 | log_lik: -101444.95518619668\n",
      "ITER: 2 | log_lik: -99857.75052971399\n",
      "ITER: 3 | log_lik: -98802.7255716796\n",
      "ITER: 4 | log_lik: -97944.53712724333\n",
      "ITER: 5 | log_lik: -97136.46440211793\n",
      "ITER: 6 | log_lik: -96737.0270584693\n",
      "ITER: 7 | log_lik: -96247.9295260658\n",
      "ITER: 8 | log_lik: -95853.8223348138\n",
      "ITER: 9 | log_lik: -95773.4511644731\n",
      "ITER: 10 | log_lik: -95622.5144382543\n",
      "ITER: 11 | log_lik: -95472.80112218104\n",
      "ITER: 12 | log_lik: -95522.3921689912\n",
      "ITER: 13 | log_lik: -95294.66412646817\n",
      "ITER: 14 | log_lik: -95383.29082012144\n",
      "ITER: 15 | log_lik: -95404.78467482804\n",
      "ITER: 16 | log_lik: -95281.21739551745\n",
      "ITER: 17 | log_lik: -95251.20506977575\n",
      "ITER: 18 | log_lik: -95339.14271425702\n",
      "ITER: 19 | log_lik: -95243.88874342805\n",
      "ITER: 20 | log_lik: -95248.85468193541\n",
      "ITER: 21 | log_lik: -95205.2077663973\n",
      "ITER: 22 | log_lik: -95225.40937871636\n",
      "ITER: 23 | log_lik: -95246.82557421472\n",
      "ITER: 24 | log_lik: -95251.81580697169\n",
      "ITER: 25 | log_lik: -95125.19286723336\n",
      "ITER: 26 | log_lik: -95159.92693102392\n",
      "ITER: 27 | log_lik: -95264.17538773338\n",
      "ITER: 28 | log_lik: -95167.72153768489\n",
      "ITER: 29 | log_lik: -95280.10927078841\n",
      "ITER: 30 | log_lik: -95127.18845439008\n",
      "ITER: 31 | log_lik: -95031.19942786903\n",
      "ITER: 32 | log_lik: -95104.7144143302\n",
      "ITER: 33 | log_lik: -95241.50344866805\n",
      "ITER: 34 | log_lik: -95103.84631604003\n",
      "ITER: 35 | log_lik: -95112.24871623615\n",
      "ITER: 36 | log_lik: -95162.7734782104\n",
      "ITER: 37 | log_lik: -95165.44842621802\n",
      "ITER: 38 | log_lik: -95147.48224271063\n",
      "ITER: 39 | log_lik: -95070.92172127678\n",
      "ITER: 40 | log_lik: -95071.70596160578\n",
      "ITER: 41 | log_lik: -95031.83921927678\n",
      "ITER: 42 | log_lik: -95081.66787223007\n",
      "ITER: 43 | log_lik: -95027.27947031482\n",
      "ITER: 44 | log_lik: -95108.73350284048\n",
      "ITER: 45 | log_lik: -95145.58253291882\n",
      "ITER: 46 | log_lik: -95212.68922479678\n",
      "ITER: 47 | log_lik: -95187.32874357527\n",
      "ITER: 48 | log_lik: -95122.10912858344\n",
      "ITER: 49 | log_lik: -95153.91218145989\n",
      "ITER: 50 | log_lik: -95103.73889071375\n",
      "ITER: 51 | log_lik: -94998.36324668641\n",
      "ITER: 52 | log_lik: -95162.83096840464\n",
      "ITER: 53 | log_lik: -95083.56374871885\n",
      "ITER: 54 | log_lik: -95093.84252198502\n",
      "ITER: 55 | log_lik: -95187.70180023066\n",
      "ITER: 56 | log_lik: -95143.14051350081\n",
      "ITER: 57 | log_lik: -95094.27227837253\n",
      "ITER: 58 | log_lik: -95131.82446143507\n",
      "ITER: 59 | log_lik: -95081.87728011963\n",
      "ITER: 60 | log_lik: -95150.96819326153\n",
      "ITER: 61 | log_lik: -95012.2082149009\n",
      "ITER: 62 | log_lik: -95049.50518752477\n",
      "ITER: 63 | log_lik: -95070.8146303086\n",
      "ITER: 64 | log_lik: -95109.0534812095\n",
      "ITER: 65 | log_lik: -95187.60519797151\n",
      "ITER: 66 | log_lik: -95111.53419815138\n",
      "ITER: 67 | log_lik: -95080.14411700534\n",
      "ITER: 68 | log_lik: -95026.49327656077\n",
      "ITER: 69 | log_lik: -95082.07764869626\n",
      "ITER: 70 | log_lik: -95077.59607667332\n",
      "ITER: 71 | log_lik: -95018.70260325016\n",
      "ITER: 72 | log_lik: -95082.15507991484\n",
      "ITER: 73 | log_lik: -95036.44471296754\n",
      "ITER: 74 | log_lik: -95071.58606143158\n",
      "ITER: 75 | log_lik: -95094.95641363374\n",
      "ITER: 76 | log_lik: -95058.95661782585\n",
      "ITER: 77 | log_lik: -95009.09748410614\n",
      "ITER: 78 | log_lik: -95033.78523135014\n",
      "ITER: 79 | log_lik: -95064.55562915024\n",
      "CPU times: user 1min 44s, sys: 879 ms, total: 1min 45s\n",
      "Wall time: 13.3 s\n"
     ]
    }
   ],
   "source": [
    "%%time\n",
    "np.random.seed(1234)\n",
    "\n",
    "alpha = 1.0*np.ones(K)\n",
    "gamma = np.ones(I)\n",
    "\n",
    "pi_vector, theta_matrix, z_vector, z_map, log_x_list = fit_collapsed_pi(X_matrix, K, alpha, gamma, \n",
    "                                                                        burn_in=20, n_iters=80)"
   ]
  },
  {
   "cell_type": "code",
   "execution_count": 17,
   "metadata": {
    "nbgrader": {
     "grade": false,
     "grade_id": "cell-0bfbb0f86368410d",
     "locked": true,
     "schema_version": 3,
     "solution": false,
     "task": false
    },
    "scrolled": false
   },
   "outputs": [
    {
     "data": {
      "image/png": "[encoded data removed]",
      "text/plain": [
       "<Figure size 576x360 with 1 Axes>"
      ]
     },
     "metadata": {
      "needs_background": "light"
     },
     "output_type": "display_data"
    }
   ],
   "source": [
    "plt.figure(figsize=(8,5))\n",
    "plt.plot(log_x_list)\n",
    "plt.xlabel('Iterations', fontsize=14)\n",
    "plt.ylabel('$log \\, p(X|Z, \\\\theta)$', fontsize=14)\n",
    "plt.show()"
   ]
  },
  {
   "cell_type": "markdown",
   "metadata": {},
   "source": [
    "##### Algorithm 3"
   ]
  },
  {
   "cell_type": "code",
   "execution_count": 18,
   "metadata": {},
   "outputs": [],
   "source": [
    "def beta_function(param_v):\n",
    "    denominator = scipy.special.gamma(np.sum(param_v))\n",
    "    print(denominator)\n",
    "    numerator = np.prod([scipy.special.gamma(p) for p in param_v])\n",
    "    return numerator / denominator\n",
    "\n",
    "def ratio_beta_function(gamma, count_v):\n",
    "    gamma = [int(g) for g in gamma.flatten()]\n",
    "    count_v = [int(g) for g in count_v.flatten()]\n",
    "    gamma_sum = np.sum(gamma)\n",
    "    Wn = np.sum(count_v)\n",
    "    num_terms = list()\n",
    "    for gamma_m, count_m in zip(gamma, count_v):\n",
    "        num_terms.append(np.prod([i for i in range(gamma_m, gamma_m + count_m)]))\n",
    "    num = np.prod(num_terms)\n",
    "    den = np.prod([j for j in range(gamma_sum, gamma_sum + Wn)])\n",
    "    return num / den\n",
    "\n",
    "def log_ratio_beta_function(gamma, count_v):\n",
    "    gamma = gamma.flatten()\n",
    "    gamma_sum = np.sum(gamma)\n",
    "    Wn = int(np.sum(count_v))\n",
    "    num_terms = list()\n",
    "    for gamma_m, count_m in zip(gamma, count_v):\n",
    "        if count_m == 0: continue\n",
    "        term_m = list(map(lambda x: np.log(x + gamma_m), list(range(count_m))))\n",
    "        num_terms.append(np.sum(term_m))\n",
    "    num = np.sum(num_terms)\n",
    "    den = np.sum([np.log(gamma_sum + j) for j in range(0, Wn)])\n",
    "    out = num - den\n",
    "    return out"
   ]
  },
  {
   "cell_type": "code",
   "execution_count": 19,
   "metadata": {
    "nbgrader": {
     "grade": false,
     "grade_id": "cell-30a5d4846061273f",
     "locked": true,
     "schema_version": 3,
     "solution": false,
     "task": false
    }
   },
   "outputs": [],
   "source": [
    "def zn_Z_function(z_matrix, n, alpha):\n",
    "    N = z_matrix.shape[0]\n",
    "    z_matrix_n = np.delete(z_matrix, n, axis=0)\n",
    "    count = np.sum(z_matrix_n, axis=0)\n",
    "    numerator = count + alpha\n",
    "    denominator = N - 1 + np.sum(alpha)\n",
    "    return numerator / denominator\n",
    "\n",
    "def gammak_p(z_matrix_n, x_matrix_n, k, gamma):\n",
    "    z_k = (z_matrix_n[:, [k]].T == 1).flatten()\n",
    "    gamma_p = gamma + np.sum(x_matrix_n[z_k, :], axis=0)  # [1, N-1] * [N-1, I]\n",
    "    return gamma_p\n",
    "\n",
    "def predictive_likelihood(z_matrix, X, n, gamma):\n",
    "    N, K = z_matrix.shape\n",
    "    z_matrix_n = np.delete(z_matrix, n, axis=0)\n",
    "    count_nm = X[n, :]  # [1, I]\n",
    "    x_matrix_n = np.delete(X, n, axis=0)\n",
    "    predictive_lik = np.zeros(K)\n",
    "    for k in range(K):\n",
    "        gamma_p = gammak_p(z_matrix_n, x_matrix_n, k, gamma)\n",
    "        predictive_lik[k] = np.exp(log_ratio_beta_function(gamma_p, count_nm))\n",
    "    return predictive_lik"
   ]
  },
  {
   "cell_type": "code",
   "execution_count": 20,
   "metadata": {},
   "outputs": [],
   "source": [
    "def fit_collapsed_pi_theta(X, K, alpha, gamma, burn_in, n_iters):\n",
    "    N, I = X.shape\n",
    "    X = X.astype(int)\n",
    "    '''Initialize parameters'''\n",
    "    pi_vector, theta_matrix, z_vector =  initialize_parameters(N, K, alpha, gamma)\n",
    "    z_map = np.zeros([N, K])\n",
    "    z_probs = np.zeros([N, K])\n",
    "    log_x_list = []\n",
    "    for it in range(n_iters):\n",
    "        '''Update parameters'''        \n",
    "        for n in range(N):\n",
    "            zn_Z = zn_Z_function(z_vector, n, alpha)\n",
    "            pred_lik = predictive_likelihood(z_vector, X, n, gamma)\n",
    "            z_probs[n, :] = zn_Z * pred_lik / np.sum(zn_Z * pred_lik)\n",
    "            z_vector[n, :] = np.random.multinomial(n=1, pvals=z_probs[n, :], size=1)\n",
    "        for k in range(K):\n",
    "            theta_matrix[k,:] = thetak_XZ(X, z_vector, k, gamma)\n",
    "        '''Check log-likelihood'''\n",
    "        log_lik_it = log_likelihood_X(X, z_vector, theta_matrix)\n",
    "        log_x_list.append(log_lik_it)\n",
    "\n",
    "        print('ITER: {} | log_lik: {}'.format(str(it), log_lik_it))\n",
    "\n",
    "        if it > burn_in: z_map += z_vector\n",
    "    \n",
    "    Zk = np.argmax(z_map, axis=-1)\n",
    "    z_map = np.zeros([N, K])\n",
    "    for i in range(N):\n",
    "        z_map[i, Zk[i]] = 1.\n",
    "    \n",
    "    return pi_vector, theta_matrix, z_vector, z_map, log_x_list"
   ]
  },
  {
   "cell_type": "code",
   "execution_count": 21,
   "metadata": {},
   "outputs": [
    {
     "name": "stdout",
     "output_type": "stream",
     "text": [
      "ITER: 0 | log_lik: -101250.93189820576\n",
      "ITER: 1 | log_lik: -98993.18803052124\n",
      "ITER: 2 | log_lik: -97736.05883526342\n",
      "ITER: 3 | log_lik: -96814.40911466136\n",
      "ITER: 4 | log_lik: -96141.63683382876\n",
      "CPU times: user 1min 12s, sys: 12.8 s, total: 1min 25s\n",
      "Wall time: 1min 20s\n"
     ]
    }
   ],
   "source": [
    "%%time\n",
    "np.random.seed(1234)\n",
    "\n",
    "alpha = 1*np.ones(K)\n",
    "gamma = np.ones(I)\n",
    "\n",
    "pi_vector, theta_matrix, z_vector, z_map, log_x_list = fit_collapsed_pi_theta(X_matrix, K, alpha, gamma, \n",
    "                                                                              burn_in=3, n_iters=5)"
   ]
  },
  {
   "cell_type": "code",
   "execution_count": 22,
   "metadata": {
    "nbgrader": {
     "grade": false,
     "grade_id": "cell-0bfbb0f86368410d",
     "locked": true,
     "schema_version": 3,
     "solution": false,
     "task": false
    },
    "scrolled": false
   },
   "outputs": [
    {
     "data": {
      "image/png": "[encoded data removed]",
      "text/plain": [
       "<Figure size 576x360 with 1 Axes>"
      ]
     },
     "metadata": {
      "needs_background": "light"
     },
     "output_type": "display_data"
    }
   ],
   "source": [
    "plt.figure(figsize=(8,5))\n",
    "plt.plot(log_x_list)\n",
    "plt.xlabel('Iterations', fontsize=14)\n",
    "plt.ylabel('$log \\, p(X|Z, \\\\theta)$', fontsize=14)\n",
    "plt.show()"
   ]
  }
 ],
 "metadata": {
  "anaconda-cloud": {},
  "celltoolbar": "Create Assignment",
  "kernelspec": {
   "display_name": "Python 3",
   "language": "python",
   "name": "python3"
  },
  "language_info": {
   "codemirror_mode": {
    "name": "ipython",
    "version": 3
   },
   "file_extension": ".py",
   "mimetype": "text/x-python",
   "name": "python",
   "nbconvert_exporter": "python",
   "pygments_lexer": "ipython3",
   "version": "3.7.4"
  }
 },
 "nbformat": 4,
 "nbformat_minor": 2
}
